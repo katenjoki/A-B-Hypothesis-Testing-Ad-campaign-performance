{
 "cells": [
  {
   "cell_type": "code",
   "execution_count": 1,
   "metadata": {},
   "outputs": [],
   "source": [
    "#Loading useful packages\n",
    "import numpy as np\n",
    "import pandas as pd\n",
    "\n",
    "import warnings\n",
    "warnings.filterwarnings('ignore')\n",
    "\n",
    "import scipy\n",
    "from scipy import stats\n",
    "\n",
    "from sklearn import preprocessing\n",
    "from sklearn.feature_selection import SelectFromModel\n",
    "from sklearn.model_selection import train_test_split\n",
    "from sklearn.model_selection import KFold\n",
    "from sklearn.model_selection import cross_val_score\n",
    "from sklearn.linear_model import LogisticRegression\n",
    "from sklearn.tree import DecisionTreeClassifier\n",
    "import xgboost as xgb\n",
    "from xgboost import XGBClassifier\n",
    "from xgboost import plot_importance\n",
    "\n",
    "from sklearn import metrics\n",
    "from sklearn.metrics import mean_squared_error, mean_absolute_error,r2_score\n",
    "from sklearn.metrics import accuracy_score, confusion_matrix\n",
    "import matplotlib.pyplot as plt\n",
    "%matplotlib inline\n",
    "import seaborn as sns"
   ]
  },
  {
   "cell_type": "code",
   "execution_count": 2,
   "metadata": {
    "scrolled": true
   },
   "outputs": [
    {
     "data": {
      "text/html": [
       "<div>\n",
       "<style scoped>\n",
       "    .dataframe tbody tr th:only-of-type {\n",
       "        vertical-align: middle;\n",
       "    }\n",
       "\n",
       "    .dataframe tbody tr th {\n",
       "        vertical-align: top;\n",
       "    }\n",
       "\n",
       "    .dataframe thead th {\n",
       "        text-align: right;\n",
       "    }\n",
       "</style>\n",
       "<table border=\"1\" class=\"dataframe\">\n",
       "  <thead>\n",
       "    <tr style=\"text-align: right;\">\n",
       "      <th></th>\n",
       "      <th>auction_id</th>\n",
       "      <th>experiment</th>\n",
       "      <th>date</th>\n",
       "      <th>hour</th>\n",
       "      <th>device_make</th>\n",
       "      <th>platform_os</th>\n",
       "      <th>browser</th>\n",
       "      <th>yes</th>\n",
       "      <th>no</th>\n",
       "    </tr>\n",
       "  </thead>\n",
       "  <tbody>\n",
       "    <tr>\n",
       "      <th>8073</th>\n",
       "      <td>ffea3210-2c3e-426f-a77d-0aa72e73b20f</td>\n",
       "      <td>control</td>\n",
       "      <td>7/3/2020</td>\n",
       "      <td>15.0</td>\n",
       "      <td>Generic Smartphone</td>\n",
       "      <td>6.0</td>\n",
       "      <td>Chrome Mobile</td>\n",
       "      <td>0.0</td>\n",
       "      <td>0.0</td>\n",
       "    </tr>\n",
       "    <tr>\n",
       "      <th>8074</th>\n",
       "      <td>ffeaa0f1-1d72-4ba9-afb4-314b3b00a7c7</td>\n",
       "      <td>control</td>\n",
       "      <td>7/4/2020</td>\n",
       "      <td>9.0</td>\n",
       "      <td>Generic Smartphone</td>\n",
       "      <td>6.0</td>\n",
       "      <td>Chrome Mobile</td>\n",
       "      <td>0.0</td>\n",
       "      <td>0.0</td>\n",
       "    </tr>\n",
       "    <tr>\n",
       "      <th>8075</th>\n",
       "      <td>ffeeed62-3f7c-4a6e-8ba7-95d303d40969</td>\n",
       "      <td>exposed</td>\n",
       "      <td>7/5/2020</td>\n",
       "      <td>15.0</td>\n",
       "      <td>Samsung SM-A515F</td>\n",
       "      <td>6.0</td>\n",
       "      <td>Samsung Internet</td>\n",
       "      <td>0.0</td>\n",
       "      <td>0.0</td>\n",
       "    </tr>\n",
       "    <tr>\n",
       "      <th>8076</th>\n",
       "      <td>fffbb9ff-568a-41a5-a0c3-6866592f80d8</td>\n",
       "      <td>control</td>\n",
       "      <td>7/10/2020</td>\n",
       "      <td>14.0</td>\n",
       "      <td>Samsung SM-G960F</td>\n",
       "      <td>6.0</td>\n",
       "      <td>Facebook</td>\n",
       "      <td>0.0</td>\n",
       "      <td>0.0</td>\n",
       "    </tr>\n",
       "    <tr>\n",
       "      <th>8077</th>\n",
       "      <td>&gt;&gt;&gt;&gt;&gt;&gt;&gt; 46d2623a0f55fa7cc6e8ede17edef4b4ee8d4332</td>\n",
       "      <td>NaN</td>\n",
       "      <td>NaN</td>\n",
       "      <td>NaN</td>\n",
       "      <td>NaN</td>\n",
       "      <td>NaN</td>\n",
       "      <td>NaN</td>\n",
       "      <td>NaN</td>\n",
       "      <td>NaN</td>\n",
       "    </tr>\n",
       "  </tbody>\n",
       "</table>\n",
       "</div>"
      ],
      "text/plain": [
       "                                            auction_id experiment       date  \\\n",
       "8073              ffea3210-2c3e-426f-a77d-0aa72e73b20f    control   7/3/2020   \n",
       "8074              ffeaa0f1-1d72-4ba9-afb4-314b3b00a7c7    control   7/4/2020   \n",
       "8075              ffeeed62-3f7c-4a6e-8ba7-95d303d40969    exposed   7/5/2020   \n",
       "8076              fffbb9ff-568a-41a5-a0c3-6866592f80d8    control  7/10/2020   \n",
       "8077  >>>>>>> 46d2623a0f55fa7cc6e8ede17edef4b4ee8d4332        NaN        NaN   \n",
       "\n",
       "      hour         device_make  platform_os           browser  yes   no  \n",
       "8073  15.0  Generic Smartphone          6.0     Chrome Mobile  0.0  0.0  \n",
       "8074   9.0  Generic Smartphone          6.0     Chrome Mobile  0.0  0.0  \n",
       "8075  15.0    Samsung SM-A515F          6.0  Samsung Internet  0.0  0.0  \n",
       "8076  14.0    Samsung SM-G960F          6.0          Facebook  0.0  0.0  \n",
       "8077   NaN                 NaN          NaN               NaN  NaN  NaN  "
      ]
     },
     "execution_count": 2,
     "metadata": {},
     "output_type": "execute_result"
    }
   ],
   "source": [
    "path = \"../data/AdSmartABdata.csv\"\n",
    "data=pd.read_csv(path)\n",
    "data.tail()"
   ]
  },
  {
   "cell_type": "code",
   "execution_count": 3,
   "metadata": {},
   "outputs": [
    {
     "data": {
      "text/plain": [
       "auction_id     0\n",
       "experiment     1\n",
       "date           1\n",
       "hour           1\n",
       "device_make    1\n",
       "platform_os    1\n",
       "browser        1\n",
       "yes            1\n",
       "no             1\n",
       "dtype: int64"
      ]
     },
     "execution_count": 3,
     "metadata": {},
     "output_type": "execute_result"
    }
   ],
   "source": [
    "data.isnull().sum()"
   ]
  },
  {
   "cell_type": "code",
   "execution_count": 4,
   "metadata": {},
   "outputs": [
    {
     "data": {
      "text/html": [
       "<div>\n",
       "<style scoped>\n",
       "    .dataframe tbody tr th:only-of-type {\n",
       "        vertical-align: middle;\n",
       "    }\n",
       "\n",
       "    .dataframe tbody tr th {\n",
       "        vertical-align: top;\n",
       "    }\n",
       "\n",
       "    .dataframe thead th {\n",
       "        text-align: right;\n",
       "    }\n",
       "</style>\n",
       "<table border=\"1\" class=\"dataframe\">\n",
       "  <thead>\n",
       "    <tr style=\"text-align: right;\">\n",
       "      <th></th>\n",
       "      <th>auction_id</th>\n",
       "      <th>experiment</th>\n",
       "      <th>date</th>\n",
       "      <th>hour</th>\n",
       "      <th>device_make</th>\n",
       "      <th>platform_os</th>\n",
       "      <th>browser</th>\n",
       "      <th>yes</th>\n",
       "      <th>no</th>\n",
       "    </tr>\n",
       "  </thead>\n",
       "  <tbody>\n",
       "    <tr>\n",
       "      <th>8077</th>\n",
       "      <td>&gt;&gt;&gt;&gt;&gt;&gt;&gt; 46d2623a0f55fa7cc6e8ede17edef4b4ee8d4332</td>\n",
       "      <td>NaN</td>\n",
       "      <td>NaN</td>\n",
       "      <td>NaN</td>\n",
       "      <td>NaN</td>\n",
       "      <td>NaN</td>\n",
       "      <td>NaN</td>\n",
       "      <td>NaN</td>\n",
       "      <td>NaN</td>\n",
       "    </tr>\n",
       "  </tbody>\n",
       "</table>\n",
       "</div>"
      ],
      "text/plain": [
       "                                            auction_id experiment date  hour  \\\n",
       "8077  >>>>>>> 46d2623a0f55fa7cc6e8ede17edef4b4ee8d4332        NaN  NaN   NaN   \n",
       "\n",
       "     device_make  platform_os browser  yes  no  \n",
       "8077         NaN          NaN     NaN  NaN NaN  "
      ]
     },
     "execution_count": 4,
     "metadata": {},
     "output_type": "execute_result"
    }
   ],
   "source": [
    "data[data.isnull().any(axis=1)]"
   ]
  },
  {
   "cell_type": "code",
   "execution_count": 5,
   "metadata": {},
   "outputs": [],
   "source": [
    "data=data.drop([8077])"
   ]
  },
  {
   "cell_type": "markdown",
   "metadata": {},
   "source": [
    "<h2>Preparing data for machine learning</h2>"
   ]
  },
  {
   "cell_type": "code",
   "execution_count": 6,
   "metadata": {},
   "outputs": [],
   "source": [
    "import datetime\n",
    "data['date']=pd.to_datetime(data['date'])\n",
    "data['day']=pd.Series(data['date'].dt.day_name())\n",
    "\n",
    "#drop rows where both columns yes and no are 0\n",
    "drop_rows=data[(data['yes']==0) & (data['no']==0)].index\n",
    "data.drop(drop_rows,inplace=True)\n",
    "\n",
    "#drop columns auction_id, no because that information is on column yes\n",
    "data=data.drop(['auction_id','no','date'],axis=1)"
   ]
  },
  {
   "cell_type": "code",
   "execution_count": 7,
   "metadata": {},
   "outputs": [],
   "source": [
    "browser=data.drop(['platform_os'],axis=1)\n",
    "platform=data.drop(['browser'],axis=1)\n",
    "#browser.reset_index()\n",
    "#platform.reset_index()"
   ]
  },
  {
   "cell_type": "markdown",
   "metadata": {},
   "source": [
    "**Create dummies for browser and  device columns**"
   ]
  },
  {
   "cell_type": "code",
   "execution_count": 8,
   "metadata": {},
   "outputs": [
    {
     "data": {
      "text/html": [
       "<div>\n",
       "<style scoped>\n",
       "    .dataframe tbody tr th:only-of-type {\n",
       "        vertical-align: middle;\n",
       "    }\n",
       "\n",
       "    .dataframe tbody tr th {\n",
       "        vertical-align: top;\n",
       "    }\n",
       "\n",
       "    .dataframe thead th {\n",
       "        text-align: right;\n",
       "    }\n",
       "</style>\n",
       "<table border=\"1\" class=\"dataframe\">\n",
       "  <thead>\n",
       "    <tr style=\"text-align: right;\">\n",
       "      <th></th>\n",
       "      <th>experiment</th>\n",
       "      <th>hour</th>\n",
       "      <th>device_make</th>\n",
       "      <th>yes</th>\n",
       "      <th>day</th>\n",
       "      <th>browser_Chrome</th>\n",
       "      <th>browser_Chrome Mobile</th>\n",
       "      <th>browser_Chrome Mobile WebView</th>\n",
       "      <th>browser_Chrome Mobile iOS</th>\n",
       "      <th>browser_Facebook</th>\n",
       "      <th>browser_Mobile Safari</th>\n",
       "      <th>browser_Mobile Safari UI/WKWebView</th>\n",
       "      <th>browser_Samsung Internet</th>\n",
       "    </tr>\n",
       "  </thead>\n",
       "  <tbody>\n",
       "    <tr>\n",
       "      <th>2</th>\n",
       "      <td>exposed</td>\n",
       "      <td>2.0</td>\n",
       "      <td>E5823</td>\n",
       "      <td>0.0</td>\n",
       "      <td>Sunday</td>\n",
       "      <td>0</td>\n",
       "      <td>0</td>\n",
       "      <td>1</td>\n",
       "      <td>0</td>\n",
       "      <td>0</td>\n",
       "      <td>0</td>\n",
       "      <td>0</td>\n",
       "      <td>0</td>\n",
       "    </tr>\n",
       "    <tr>\n",
       "      <th>16</th>\n",
       "      <td>exposed</td>\n",
       "      <td>16.0</td>\n",
       "      <td>Generic Smartphone</td>\n",
       "      <td>1.0</td>\n",
       "      <td>Saturday</td>\n",
       "      <td>0</td>\n",
       "      <td>1</td>\n",
       "      <td>0</td>\n",
       "      <td>0</td>\n",
       "      <td>0</td>\n",
       "      <td>0</td>\n",
       "      <td>0</td>\n",
       "      <td>0</td>\n",
       "    </tr>\n",
       "    <tr>\n",
       "      <th>20</th>\n",
       "      <td>exposed</td>\n",
       "      <td>8.0</td>\n",
       "      <td>Generic Smartphone</td>\n",
       "      <td>0.0</td>\n",
       "      <td>Monday</td>\n",
       "      <td>0</td>\n",
       "      <td>1</td>\n",
       "      <td>0</td>\n",
       "      <td>0</td>\n",
       "      <td>0</td>\n",
       "      <td>0</td>\n",
       "      <td>0</td>\n",
       "      <td>0</td>\n",
       "    </tr>\n",
       "    <tr>\n",
       "      <th>23</th>\n",
       "      <td>control</td>\n",
       "      <td>4.0</td>\n",
       "      <td>Samsung SM-A202F</td>\n",
       "      <td>1.0</td>\n",
       "      <td>Wednesday</td>\n",
       "      <td>0</td>\n",
       "      <td>0</td>\n",
       "      <td>0</td>\n",
       "      <td>0</td>\n",
       "      <td>1</td>\n",
       "      <td>0</td>\n",
       "      <td>0</td>\n",
       "      <td>0</td>\n",
       "    </tr>\n",
       "    <tr>\n",
       "      <th>27</th>\n",
       "      <td>control</td>\n",
       "      <td>15.0</td>\n",
       "      <td>Generic Smartphone</td>\n",
       "      <td>0.0</td>\n",
       "      <td>Friday</td>\n",
       "      <td>0</td>\n",
       "      <td>1</td>\n",
       "      <td>0</td>\n",
       "      <td>0</td>\n",
       "      <td>0</td>\n",
       "      <td>0</td>\n",
       "      <td>0</td>\n",
       "      <td>0</td>\n",
       "    </tr>\n",
       "  </tbody>\n",
       "</table>\n",
       "</div>"
      ],
      "text/plain": [
       "   experiment  hour         device_make  yes        day  browser_Chrome  \\\n",
       "2     exposed   2.0               E5823  0.0     Sunday               0   \n",
       "16    exposed  16.0  Generic Smartphone  1.0   Saturday               0   \n",
       "20    exposed   8.0  Generic Smartphone  0.0     Monday               0   \n",
       "23    control   4.0    Samsung SM-A202F  1.0  Wednesday               0   \n",
       "27    control  15.0  Generic Smartphone  0.0     Friday               0   \n",
       "\n",
       "    browser_Chrome Mobile  browser_Chrome Mobile WebView  \\\n",
       "2                       0                              1   \n",
       "16                      1                              0   \n",
       "20                      1                              0   \n",
       "23                      0                              0   \n",
       "27                      1                              0   \n",
       "\n",
       "    browser_Chrome Mobile iOS  browser_Facebook  browser_Mobile Safari  \\\n",
       "2                           0                 0                      0   \n",
       "16                          0                 0                      0   \n",
       "20                          0                 0                      0   \n",
       "23                          0                 1                      0   \n",
       "27                          0                 0                      0   \n",
       "\n",
       "    browser_Mobile Safari UI/WKWebView  browser_Samsung Internet  \n",
       "2                                    0                         0  \n",
       "16                                   0                         0  \n",
       "20                                   0                         0  \n",
       "23                                   0                         0  \n",
       "27                                   0                         0  "
      ]
     },
     "execution_count": 8,
     "metadata": {},
     "output_type": "execute_result"
    }
   ],
   "source": [
    "browser=pd.get_dummies(data=browser,columns=['browser'])\n",
    "browser.head()"
   ]
  },
  {
   "cell_type": "code",
   "execution_count": 9,
   "metadata": {},
   "outputs": [
    {
     "data": {
      "text/html": [
       "<div>\n",
       "<style scoped>\n",
       "    .dataframe tbody tr th:only-of-type {\n",
       "        vertical-align: middle;\n",
       "    }\n",
       "\n",
       "    .dataframe tbody tr th {\n",
       "        vertical-align: top;\n",
       "    }\n",
       "\n",
       "    .dataframe thead th {\n",
       "        text-align: right;\n",
       "    }\n",
       "</style>\n",
       "<table border=\"1\" class=\"dataframe\">\n",
       "  <thead>\n",
       "    <tr style=\"text-align: right;\">\n",
       "      <th></th>\n",
       "      <th>experiment</th>\n",
       "      <th>hour</th>\n",
       "      <th>device_make</th>\n",
       "      <th>yes</th>\n",
       "      <th>day</th>\n",
       "      <th>platform_os_5.0</th>\n",
       "      <th>platform_os_6.0</th>\n",
       "    </tr>\n",
       "  </thead>\n",
       "  <tbody>\n",
       "    <tr>\n",
       "      <th>2</th>\n",
       "      <td>exposed</td>\n",
       "      <td>2.0</td>\n",
       "      <td>E5823</td>\n",
       "      <td>0.0</td>\n",
       "      <td>Sunday</td>\n",
       "      <td>0</td>\n",
       "      <td>1</td>\n",
       "    </tr>\n",
       "    <tr>\n",
       "      <th>16</th>\n",
       "      <td>exposed</td>\n",
       "      <td>16.0</td>\n",
       "      <td>Generic Smartphone</td>\n",
       "      <td>1.0</td>\n",
       "      <td>Saturday</td>\n",
       "      <td>0</td>\n",
       "      <td>1</td>\n",
       "    </tr>\n",
       "    <tr>\n",
       "      <th>20</th>\n",
       "      <td>exposed</td>\n",
       "      <td>8.0</td>\n",
       "      <td>Generic Smartphone</td>\n",
       "      <td>0.0</td>\n",
       "      <td>Monday</td>\n",
       "      <td>0</td>\n",
       "      <td>1</td>\n",
       "    </tr>\n",
       "    <tr>\n",
       "      <th>23</th>\n",
       "      <td>control</td>\n",
       "      <td>4.0</td>\n",
       "      <td>Samsung SM-A202F</td>\n",
       "      <td>1.0</td>\n",
       "      <td>Wednesday</td>\n",
       "      <td>0</td>\n",
       "      <td>1</td>\n",
       "    </tr>\n",
       "    <tr>\n",
       "      <th>27</th>\n",
       "      <td>control</td>\n",
       "      <td>15.0</td>\n",
       "      <td>Generic Smartphone</td>\n",
       "      <td>0.0</td>\n",
       "      <td>Friday</td>\n",
       "      <td>0</td>\n",
       "      <td>1</td>\n",
       "    </tr>\n",
       "  </tbody>\n",
       "</table>\n",
       "</div>"
      ],
      "text/plain": [
       "   experiment  hour         device_make  yes        day  platform_os_5.0  \\\n",
       "2     exposed   2.0               E5823  0.0     Sunday                0   \n",
       "16    exposed  16.0  Generic Smartphone  1.0   Saturday                0   \n",
       "20    exposed   8.0  Generic Smartphone  0.0     Monday                0   \n",
       "23    control   4.0    Samsung SM-A202F  1.0  Wednesday                0   \n",
       "27    control  15.0  Generic Smartphone  0.0     Friday                0   \n",
       "\n",
       "    platform_os_6.0  \n",
       "2                 1  \n",
       "16                1  \n",
       "20                1  \n",
       "23                1  \n",
       "27                1  "
      ]
     },
     "execution_count": 9,
     "metadata": {},
     "output_type": "execute_result"
    }
   ],
   "source": [
    "platform=pd.get_dummies(data=platform,columns=['platform_os'])\n",
    "platform.head()"
   ]
  },
  {
   "cell_type": "code",
   "execution_count": 10,
   "metadata": {},
   "outputs": [],
   "source": [
    "#Label Encoding to convert text columns to numerical format\n",
    "from sklearn import preprocessing\n",
    "le=preprocessing.LabelEncoder()\n",
    "\n",
    "def label_en(df):\n",
    "    columns=df.columns\n",
    "    for i in columns:\n",
    "        df[i]=le.fit_transform(df[i].astype(str))\n",
    "        \n",
    "label_en(browser)\n",
    "label_en(platform)"
   ]
  },
  {
   "cell_type": "code",
   "execution_count": 11,
   "metadata": {},
   "outputs": [],
   "source": [
    "platform.to_csv(r'C:\\Users\\user\\OneDrive\\Desktop\\10Academy\\abtest_mlops\\data\\platform.csv',header=True)\n",
    "browser.to_csv(r'C:\\Users\\user\\OneDrive\\Desktop\\10Academy\\abtest_mlops\\data\\browser.csv',header=True)"
   ]
  },
  {
   "cell_type": "markdown",
   "metadata": {},
   "source": [
    "<h2>Building the model</h2>"
   ]
  },
  {
   "cell_type": "markdown",
   "metadata": {},
   "source": [
    "**Loss function**"
   ]
  },
  {
   "cell_type": "code",
   "execution_count": 12,
   "metadata": {},
   "outputs": [],
   "source": [
    "def loss_function(y_test, y_preds):\n",
    "    rmse = np.sqrt(mean_squared_error(y_test, y_preds))\n",
    "    r_sq = r2_score(y_test, y_preds)\n",
    "    mae = mean_absolute_error(y_test, y_preds)\n",
    "\n",
    "    print('Prediction RMSE Score: {}'.format(rmse))\n",
    "    print('Prediction R2_Squared: {}'.format(r_sq))\n",
    "    print('Prediction MAE Score: {}'.format(mae))"
   ]
  },
  {
   "cell_type": "markdown",
   "metadata": {},
   "source": [
    "**Logistic Regression Model**"
   ]
  },
  {
   "cell_type": "code",
   "execution_count": 13,
   "metadata": {},
   "outputs": [],
   "source": [
    "def log_model(X_train,X_test,y_train,y_test):\n",
    "    kfold=KFold(n_splits=5,random_state=42,shuffle=True)\n",
    "    model=LogisticRegression()\n",
    "    #hyper-parameter tuning\n",
    "    scores = cross_val_score(model, X_train, y_train, scoring='accuracy', cv=kfold, n_jobs=-1)\n",
    "    print('Validation Accuracy: %.3f (%.3f)' %(np.mean(scores), np.std(scores)))\n",
    "    model.fit(X_train,y_train)\n",
    "    y_pred = model.predict(X_test)\n",
    "    loss_function(y_test, y_pred)\n",
    "    \n",
    "    #get feature importance\n",
    "    importance = model.coef_[0]\n",
    "    # summarize feature importance\n",
    "    for i,v in enumerate(importance):\n",
    "        print('Feature: %0d, Score: %.5f' % (i,v))\n",
    "\n",
    "    # plot feature importance\n",
    "    sns.barplot([x for x in range(len(importance))], importance,palette='summer')\n",
    "    plt.title('Logistic Regression Feature Importance')\n",
    "    plt.show()"
   ]
  },
  {
   "cell_type": "markdown",
   "metadata": {},
   "source": [
    "**Decision Trees**"
   ]
  },
  {
   "cell_type": "code",
   "execution_count": 14,
   "metadata": {},
   "outputs": [],
   "source": [
    "def decision_trees(X_train,X_test,y_train,y_test):\n",
    "    kfold=KFold(n_splits=5,random_state=42,shuffle=True)\n",
    "    dtree=DecisionTreeClassifier()\n",
    "    #hyper-parameter tuning\n",
    "    scores = cross_val_score(dtree, X_train, y_train, scoring='accuracy', cv=kfold, n_jobs=-1)\n",
    "    print('Validation Accuracy: %.3f (%.3f)' %(np.mean(scores), np.std(scores)))\n",
    "    dtree.fit(X_train,y_train)\n",
    "    y_pred = dtree.predict(X_test)\n",
    "    loss_function(y_test, y_pred)\n",
    "    \n",
    "    importance = dtree.feature_importances_\n",
    "    # summarize feature importance\n",
    "    for i,v in enumerate(importance):\n",
    "        print('Feature: %0d, Score: %.5f' % (i,v))\n",
    "\n",
    "    # plot feature importance\n",
    "    sns.barplot([x for x in range(len(importance))], importance,palette='summer')\n",
    "    plt.title('Decision Tree Classifier Feature Importance')\n",
    "    plt.show()"
   ]
  },
  {
   "cell_type": "markdown",
   "metadata": {},
   "source": [
    "**XGBoost**"
   ]
  },
  {
   "cell_type": "code",
   "execution_count": 15,
   "metadata": {},
   "outputs": [],
   "source": [
    "def xgboost_model(X_train,X_test,y_train,y_test):\n",
    "    kfold=KFold(n_splits=5,random_state=42,shuffle=True)\n",
    "    model=XGBClassifier()\n",
    "    scores = cross_val_score(model, X_train, y_train, scoring='accuracy', cv=kfold, n_jobs=-1)\n",
    "    print('Validation Accuracy: %.3f (%.3f)' %(np.mean(scores), np.std(scores)))\n",
    "    model.fit(X_train,y_train)\n",
    "    y_pred=model.predict(X_test)\n",
    "    loss_function(y_test, y_pred)\n",
    "    \n",
    "    # Fit model using each importance as a threshold\n",
    "    thresholds = np.sort(model.feature_importances_)\n",
    "    for thresh in thresholds:\n",
    "        # select features using threshold\n",
    "        selection = SelectFromModel(model, threshold=thresh, prefit=True)\n",
    "        select_X_train = selection.transform(X_train)\n",
    "        # train model\n",
    "        selection_model = XGBClassifier(verbosity=0)\n",
    "        selection_model.fit(select_X_train, y_train)\n",
    "        # eval model\n",
    "        select_X_test = selection.transform(X_test)\n",
    "        y_pred = selection_model.predict(select_X_test)\n",
    "        predictions = [round(value) for value in y_pred]\n",
    "        accuracy = accuracy_score(y_test, predictions)\n",
    "        print(\"Thresh=%.3f, n=%d, Accuracy: %.2f%%\" % (thresh, select_X_train.shape[1], accuracy*100.0))\n",
    "        \n",
    "    plot_importance(model,color='#B0C485')\n",
    "    plt.show()"
   ]
  },
  {
   "cell_type": "markdown",
   "metadata": {},
   "source": [
    "<h2>Browser Data</h2>\n",
    "\n",
    "**Train-test-split**"
   ]
  },
  {
   "cell_type": "code",
   "execution_count": 16,
   "metadata": {},
   "outputs": [],
   "source": [
    "df=browser\n",
    "\n",
    "X=df.loc[:,df.columns != 'yes']\n",
    "y=df['yes']\n",
    "X_train, X_test, y_train, y_test = train_test_split(X,y,train_size=0.7,random_state=42)  "
   ]
  },
  {
   "cell_type": "code",
   "execution_count": 17,
   "metadata": {},
   "outputs": [
    {
     "name": "stdout",
     "output_type": "stream",
     "text": [
      "Validation Accuracy: 0.525 (0.041)\n",
      "Prediction RMSE Score: 0.6790625931104807\n",
      "Prediction R2_Squared: -0.855721393034826\n",
      "Prediction MAE Score: 0.46112600536193027\n",
      "Feature: 0, Score: 0.07165\n",
      "Feature: 1, Score: 0.00946\n",
      "Feature: 2, Score: 0.00156\n",
      "Feature: 3, Score: 0.00620\n",
      "Feature: 4, Score: 0.28742\n",
      "Feature: 5, Score: 0.14159\n",
      "Feature: 6, Score: 0.29382\n",
      "Feature: 7, Score: 0.00000\n",
      "Feature: 8, Score: 0.08026\n",
      "Feature: 9, Score: -0.48328\n",
      "Feature: 10, Score: -0.66202\n",
      "Feature: 11, Score: -0.00014\n"
     ]
    },
    {
     "data": {
      "image/png": "[encoded data removed]",
      "text/plain": [
       "<Figure size 432x288 with 1 Axes>"
      ]
     },
     "metadata": {
      "needs_background": "light"
     },
     "output_type": "display_data"
    }
   ],
   "source": [
    "browser_log=log_model(X_train, X_test, y_train, y_test)\n",
    "browser_log"
   ]
  },
  {
   "cell_type": "code",
   "execution_count": 18,
   "metadata": {},
   "outputs": [
    {
     "name": "stdout",
     "output_type": "stream",
     "text": [
      "Validation Accuracy: 0.511 (0.056)\n",
      "Prediction RMSE Score: 0.6966022478351674\n",
      "Prediction R2_Squared: -0.9528230938331597\n",
      "Prediction MAE Score: 0.48525469168900803\n",
      "Feature: 0, Score: 0.11121\n",
      "Feature: 1, Score: 0.19423\n",
      "Feature: 2, Score: 0.28581\n",
      "Feature: 3, Score: 0.27768\n",
      "Feature: 4, Score: 0.00000\n",
      "Feature: 5, Score: 0.03871\n",
      "Feature: 6, Score: 0.03169\n",
      "Feature: 7, Score: 0.00000\n",
      "Feature: 8, Score: 0.03916\n",
      "Feature: 9, Score: 0.00232\n",
      "Feature: 10, Score: 0.00000\n",
      "Feature: 11, Score: 0.01920\n"
     ]
    },
    {
     "data": {
      "image/png": "[encoded data removed]",
      "text/plain": [
       "<Figure size 432x288 with 1 Axes>"
      ]
     },
     "metadata": {
      "needs_background": "light"
     },
     "output_type": "display_data"
    }
   ],
   "source": [
    "browser_tree=decision_trees(X_train, X_test, y_train, y_test)\n",
    "browser_tree"
   ]
  },
  {
   "cell_type": "code",
   "execution_count": 19,
   "metadata": {},
   "outputs": [
    {
     "name": "stdout",
     "output_type": "stream",
     "text": [
      "Validation Accuracy: 0.499 (0.042)\n",
      "[17:50:07] WARNING: C:/Users/Administrator/workspace/xgboost-win64_release_1.4.0/src/learner.cc:1095: Starting in XGBoost 1.3.0, the default evaluation metric used with the objective 'binary:logistic' was changed from 'error' to 'logloss'. Explicitly set eval_metric if you'd like to restore the old behavior.\n",
      "Prediction RMSE Score: 0.6711200673293252\n",
      "Prediction R2_Squared: -0.8125650815688996\n",
      "Prediction MAE Score: 0.450402144772118\n",
      "Thresh=0.000, n=12, Accuracy: 54.96%\n",
      "Thresh=0.000, n=12, Accuracy: 54.96%\n",
      "Thresh=0.000, n=12, Accuracy: 54.96%\n",
      "Thresh=0.092, n=9, Accuracy: 54.96%\n",
      "Thresh=0.093, n=8, Accuracy: 53.35%\n",
      "Thresh=0.107, n=7, Accuracy: 50.94%\n",
      "Thresh=0.108, n=6, Accuracy: 50.67%\n",
      "Thresh=0.110, n=5, Accuracy: 51.74%\n",
      "Thresh=0.118, n=4, Accuracy: 52.01%\n",
      "Thresh=0.122, n=3, Accuracy: 51.47%\n",
      "Thresh=0.122, n=2, Accuracy: 52.01%\n",
      "Thresh=0.128, n=1, Accuracy: 49.60%\n"
     ]
    },
    {
     "data": {
      "image/png": "[encoded data removed]",
      "text/plain": [
       "<Figure size 432x288 with 1 Axes>"
      ]
     },
     "metadata": {
      "needs_background": "light"
     },
     "output_type": "display_data"
    }
   ],
   "source": [
    "browser_xbg=xgboost_model(X_train, X_test, y_train, y_test)"
   ]
  },
  {
   "cell_type": "markdown",
   "metadata": {},
   "source": [
    "**Browser data, top 3 features per model**\n",
    "* Logistic Regression: browser_Chrome','browser_Chrome Mobile', 'browser_Chrome Mobile WebView' 4,5,6  | 645\n",
    "* Decision Tree Classifier: hour,device_make,day\n",
    "* xgboost: device_make,hour,day"
   ]
  },
  {
   "cell_type": "markdown",
   "metadata": {},
   "source": [
    "<h2>Platform data</h2>"
   ]
  },
  {
   "cell_type": "code",
   "execution_count": 20,
   "metadata": {},
   "outputs": [],
   "source": [
    "df=platform\n",
    "\n",
    "X=df.loc[:,df.columns != 'yes']\n",
    "y=df['yes']\n",
    "X_train, X_test, y_train, y_test = train_test_split(X,y,train_size=0.7,random_state=42)  "
   ]
  },
  {
   "cell_type": "code",
   "execution_count": 21,
   "metadata": {},
   "outputs": [
    {
     "name": "stdout",
     "output_type": "stream",
     "text": [
      "Validation Accuracy: 0.521 (0.045)\n",
      "Prediction RMSE Score: 0.6770856963593879\n",
      "Prediction R2_Squared: -0.8449323151683443\n",
      "Prediction MAE Score: 0.4584450402144772\n",
      "Feature: 0, Score: 0.12771\n",
      "Feature: 1, Score: 0.00966\n",
      "Feature: 2, Score: 0.00142\n",
      "Feature: 3, Score: 0.00695\n",
      "Feature: 4, Score: -0.37604\n",
      "Feature: 5, Score: 0.37624\n"
     ]
    },
    {
     "data": {
      "image/png": "[encoded data removed]",
      "text/plain": [
       "<Figure size 432x288 with 1 Axes>"
      ]
     },
     "metadata": {
      "needs_background": "light"
     },
     "output_type": "display_data"
    }
   ],
   "source": [
    "platform_log=log_model(X_train, X_test, y_train, y_test)\n",
    "platform_log"
   ]
  },
  {
   "cell_type": "code",
   "execution_count": 22,
   "metadata": {},
   "outputs": [
    {
     "name": "stdout",
     "output_type": "stream",
     "text": [
      "Validation Accuracy: 0.493 (0.033)\n",
      "Prediction RMSE Score: 0.6927429259069354\n",
      "Prediction R2_Squared: -0.9312449381001966\n",
      "Prediction MAE Score: 0.47989276139410186\n",
      "Feature: 0, Score: 0.10673\n",
      "Feature: 1, Score: 0.22222\n",
      "Feature: 2, Score: 0.33766\n",
      "Feature: 3, Score: 0.33339\n",
      "Feature: 4, Score: 0.00000\n",
      "Feature: 5, Score: 0.00000\n"
     ]
    },
    {
     "data": {
      "image/png": "[encoded data removed]",
      "text/plain": [
       "<Figure size 432x288 with 1 Axes>"
      ]
     },
     "metadata": {
      "needs_background": "light"
     },
     "output_type": "display_data"
    }
   ],
   "source": [
    "platform_tree=decision_trees(X_train, X_test, y_train, y_test)\n",
    "platform_tree"
   ]
  },
  {
   "cell_type": "code",
   "execution_count": 23,
   "metadata": {},
   "outputs": [
    {
     "name": "stdout",
     "output_type": "stream",
     "text": [
      "Validation Accuracy: 0.498 (0.025)\n",
      "Prediction RMSE Score: 0.6671133445503933\n",
      "Prediction R2_Squared: -0.7909869258359365\n",
      "Prediction MAE Score: 0.4450402144772118\n",
      "Thresh=0.000, n=6, Accuracy: 55.50%\n",
      "Thresh=0.000, n=6, Accuracy: 55.50%\n",
      "Thresh=0.203, n=4, Accuracy: 55.50%\n",
      "Thresh=0.258, n=3, Accuracy: 54.42%\n",
      "Thresh=0.262, n=2, Accuracy: 55.23%\n",
      "Thresh=0.277, n=1, Accuracy: 49.60%\n"
     ]
    },
    {
     "data": {
      "image/png": "[encoded data removed]",
      "text/plain": [
       "<Figure size 432x288 with 1 Axes>"
      ]
     },
     "metadata": {
      "needs_background": "light"
     },
     "output_type": "display_data"
    }
   ],
   "source": [
    "platform_xgb=xgboost_model(X_train, X_test, y_train, y_test)\n",
    "platform_xgb"
   ]
  },
  {
   "cell_type": "markdown",
   "metadata": {},
   "source": [
    "**Platform data, top features per model**\n",
    "* Logistic Regression: platform os6, experiment,hour\n",
    "* Decision Tree: device_make,day,hour\n",
    "* XGB: device_make,hour,day"
   ]
  }
 ],
 "metadata": {
  "kernelspec": {
   "display_name": "Python 3",
   "language": "python",
   "name": "python3"
  },
  "language_info": {
   "codemirror_mode": {
    "name": "ipython",
    "version": 3
   },
   "file_extension": ".py",
   "mimetype": "text/x-python",
   "name": "python",
   "nbconvert_exporter": "python",
   "pygments_lexer": "ipython3",
   "version": "3.7.4"
  }
 },
 "nbformat": 4,
 "nbformat_minor": 2
}
