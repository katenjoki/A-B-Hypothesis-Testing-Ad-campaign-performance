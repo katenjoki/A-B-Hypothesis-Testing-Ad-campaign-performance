{
 "cells": [
  {
   "cell_type": "code",
   "execution_count": 1,
   "metadata": {},
   "outputs": [],
   "source": [
    "import pandas as pd\n",
    "pd.set_option('max_column', None)\n",
    "pd.set_option('display.float_format',lambda x:'%5f'%x)\n",
    "\n",
    "import numpy as np\n",
    "import matplotlib.pyplot as plt\n",
    "%matplotlib inline\n",
    "import seaborn as sns\n",
    "\n",
    "import warnings\n",
    "warnings.filterwarnings('ignore')"
   ]
  },
  {
   "cell_type": "code",
   "execution_count": 2,
   "metadata": {
    "scrolled": true
   },
   "outputs": [
    {
     "data": {
      "text/html": [
       "<div>\n",
       "<style scoped>\n",
       "    .dataframe tbody tr th:only-of-type {\n",
       "        vertical-align: middle;\n",
       "    }\n",
       "\n",
       "    .dataframe tbody tr th {\n",
       "        vertical-align: top;\n",
       "    }\n",
       "\n",
       "    .dataframe thead th {\n",
       "        text-align: right;\n",
       "    }\n",
       "</style>\n",
       "<table border=\"1\" class=\"dataframe\">\n",
       "  <thead>\n",
       "    <tr style=\"text-align: right;\">\n",
       "      <th></th>\n",
       "      <th>Bearer Id</th>\n",
       "      <th>Start</th>\n",
       "      <th>Start ms</th>\n",
       "      <th>End</th>\n",
       "      <th>End ms</th>\n",
       "      <th>Dur. (ms)</th>\n",
       "      <th>IMSI</th>\n",
       "      <th>MSISDN/Number</th>\n",
       "      <th>IMEI</th>\n",
       "      <th>Last Location Name</th>\n",
       "      <th>Avg RTT DL (ms)</th>\n",
       "      <th>Avg RTT UL (ms)</th>\n",
       "      <th>Avg Bearer TP DL (kbps)</th>\n",
       "      <th>Avg Bearer TP UL (kbps)</th>\n",
       "      <th>TCP DL Retrans. Vol (Bytes)</th>\n",
       "      <th>TCP UL Retrans. Vol (Bytes)</th>\n",
       "      <th>DL TP &lt; 50 Kbps (%)</th>\n",
       "      <th>50 Kbps &lt; DL TP &lt; 250 Kbps (%)</th>\n",
       "      <th>250 Kbps &lt; DL TP &lt; 1 Mbps (%)</th>\n",
       "      <th>DL TP &gt; 1 Mbps (%)</th>\n",
       "      <th>UL TP &lt; 10 Kbps (%)</th>\n",
       "      <th>10 Kbps &lt; UL TP &lt; 50 Kbps (%)</th>\n",
       "      <th>50 Kbps &lt; UL TP &lt; 300 Kbps (%)</th>\n",
       "      <th>UL TP &gt; 300 Kbps (%)</th>\n",
       "      <th>HTTP DL (Bytes)</th>\n",
       "      <th>HTTP UL (Bytes)</th>\n",
       "      <th>Activity Duration DL (ms)</th>\n",
       "      <th>Activity Duration UL (ms)</th>\n",
       "      <th>Dur. (ms).1</th>\n",
       "      <th>Handset Manufacturer</th>\n",
       "      <th>Handset Type</th>\n",
       "      <th>Nb of sec with 125000B &lt; Vol DL</th>\n",
       "      <th>Nb of sec with 1250B &lt; Vol UL &lt; 6250B</th>\n",
       "      <th>Nb of sec with 31250B &lt; Vol DL &lt; 125000B</th>\n",
       "      <th>Nb of sec with 37500B &lt; Vol UL</th>\n",
       "      <th>Nb of sec with 6250B &lt; Vol DL &lt; 31250B</th>\n",
       "      <th>Nb of sec with 6250B &lt; Vol UL &lt; 37500B</th>\n",
       "      <th>Nb of sec with Vol DL &lt; 6250B</th>\n",
       "      <th>Nb of sec with Vol UL &lt; 1250B</th>\n",
       "      <th>Social Media DL (Bytes)</th>\n",
       "      <th>Social Media UL (Bytes)</th>\n",
       "      <th>Google DL (Bytes)</th>\n",
       "      <th>Google UL (Bytes)</th>\n",
       "      <th>Email DL (Bytes)</th>\n",
       "      <th>Email UL (Bytes)</th>\n",
       "      <th>Youtube DL (Bytes)</th>\n",
       "      <th>Youtube UL (Bytes)</th>\n",
       "      <th>Netflix DL (Bytes)</th>\n",
       "      <th>Netflix UL (Bytes)</th>\n",
       "      <th>Gaming DL (Bytes)</th>\n",
       "      <th>Gaming UL (Bytes)</th>\n",
       "      <th>Other DL (Bytes)</th>\n",
       "      <th>Other UL (Bytes)</th>\n",
       "      <th>Total UL (Bytes)</th>\n",
       "      <th>Total DL (Bytes)</th>\n",
       "    </tr>\n",
       "  </thead>\n",
       "  <tbody>\n",
       "    <tr>\n",
       "      <th>0</th>\n",
       "      <td>13114483460844900352.000000</td>\n",
       "      <td>4/4/2019 12:01</td>\n",
       "      <td>770.000000</td>\n",
       "      <td>4/25/2019 14:35</td>\n",
       "      <td>662.000000</td>\n",
       "      <td>1823652.000000</td>\n",
       "      <td>208201448079117.000000</td>\n",
       "      <td>33664962239.000000</td>\n",
       "      <td>35521209507511.000000</td>\n",
       "      <td>9.16456699548519E+015</td>\n",
       "      <td>42.000000</td>\n",
       "      <td>5.000000</td>\n",
       "      <td>23.000000</td>\n",
       "      <td>44.000000</td>\n",
       "      <td>NaN</td>\n",
       "      <td>NaN</td>\n",
       "      <td>100.000000</td>\n",
       "      <td>0.000000</td>\n",
       "      <td>0.000000</td>\n",
       "      <td>0.000000</td>\n",
       "      <td>100.000000</td>\n",
       "      <td>0.000000</td>\n",
       "      <td>0.000000</td>\n",
       "      <td>0.000000</td>\n",
       "      <td>NaN</td>\n",
       "      <td>NaN</td>\n",
       "      <td>37624.000000</td>\n",
       "      <td>38787.000000</td>\n",
       "      <td>1823652892.000000</td>\n",
       "      <td>Samsung</td>\n",
       "      <td>Samsung Galaxy A5 Sm-A520F</td>\n",
       "      <td>NaN</td>\n",
       "      <td>NaN</td>\n",
       "      <td>NaN</td>\n",
       "      <td>NaN</td>\n",
       "      <td>NaN</td>\n",
       "      <td>NaN</td>\n",
       "      <td>213.000000</td>\n",
       "      <td>214.000000</td>\n",
       "      <td>1545765.000000</td>\n",
       "      <td>24420.000000</td>\n",
       "      <td>1634479.000000</td>\n",
       "      <td>1271433.000000</td>\n",
       "      <td>3563542.000000</td>\n",
       "      <td>137762.000000</td>\n",
       "      <td>15854611.000000</td>\n",
       "      <td>2501332.000000</td>\n",
       "      <td>8198936.000000</td>\n",
       "      <td>9656251.000000</td>\n",
       "      <td>278082303.000000</td>\n",
       "      <td>14344150.000000</td>\n",
       "      <td>171744450.000000</td>\n",
       "      <td>8814393.000000</td>\n",
       "      <td>36749741.000000</td>\n",
       "      <td>308879636.000000</td>\n",
       "    </tr>\n",
       "    <tr>\n",
       "      <th>1</th>\n",
       "      <td>13114483482878900224.000000</td>\n",
       "      <td>4/9/2019 13:04</td>\n",
       "      <td>235.000000</td>\n",
       "      <td>4/25/2019 8:15</td>\n",
       "      <td>606.000000</td>\n",
       "      <td>1365104.000000</td>\n",
       "      <td>208201909211140.000000</td>\n",
       "      <td>33681854413.000000</td>\n",
       "      <td>35794009006359.000000</td>\n",
       "      <td>L77566A</td>\n",
       "      <td>65.000000</td>\n",
       "      <td>5.000000</td>\n",
       "      <td>16.000000</td>\n",
       "      <td>26.000000</td>\n",
       "      <td>NaN</td>\n",
       "      <td>NaN</td>\n",
       "      <td>100.000000</td>\n",
       "      <td>0.000000</td>\n",
       "      <td>0.000000</td>\n",
       "      <td>0.000000</td>\n",
       "      <td>100.000000</td>\n",
       "      <td>0.000000</td>\n",
       "      <td>0.000000</td>\n",
       "      <td>0.000000</td>\n",
       "      <td>NaN</td>\n",
       "      <td>NaN</td>\n",
       "      <td>168.000000</td>\n",
       "      <td>3560.000000</td>\n",
       "      <td>1365104371.000000</td>\n",
       "      <td>Samsung</td>\n",
       "      <td>Samsung Galaxy J5 (Sm-J530)</td>\n",
       "      <td>NaN</td>\n",
       "      <td>NaN</td>\n",
       "      <td>NaN</td>\n",
       "      <td>NaN</td>\n",
       "      <td>NaN</td>\n",
       "      <td>NaN</td>\n",
       "      <td>971.000000</td>\n",
       "      <td>1022.000000</td>\n",
       "      <td>1926113.000000</td>\n",
       "      <td>7165.000000</td>\n",
       "      <td>3493924.000000</td>\n",
       "      <td>920172.000000</td>\n",
       "      <td>629046.000000</td>\n",
       "      <td>308339.000000</td>\n",
       "      <td>20247395.000000</td>\n",
       "      <td>19111729.000000</td>\n",
       "      <td>18338413.000000</td>\n",
       "      <td>17227132.000000</td>\n",
       "      <td>608750074.000000</td>\n",
       "      <td>1170709.000000</td>\n",
       "      <td>526904238.000000</td>\n",
       "      <td>15055145.000000</td>\n",
       "      <td>53800391.000000</td>\n",
       "      <td>653384965.000000</td>\n",
       "    </tr>\n",
       "    <tr>\n",
       "      <th>2</th>\n",
       "      <td>13114483484080500736.000000</td>\n",
       "      <td>4/9/2019 17:42</td>\n",
       "      <td>1.000000</td>\n",
       "      <td>4/25/2019 11:58</td>\n",
       "      <td>652.000000</td>\n",
       "      <td>1361762.000000</td>\n",
       "      <td>208200314458056.000000</td>\n",
       "      <td>33760627129.000000</td>\n",
       "      <td>35281510359387.000000</td>\n",
       "      <td>D42335A</td>\n",
       "      <td>NaN</td>\n",
       "      <td>NaN</td>\n",
       "      <td>6.000000</td>\n",
       "      <td>9.000000</td>\n",
       "      <td>NaN</td>\n",
       "      <td>NaN</td>\n",
       "      <td>100.000000</td>\n",
       "      <td>0.000000</td>\n",
       "      <td>0.000000</td>\n",
       "      <td>0.000000</td>\n",
       "      <td>100.000000</td>\n",
       "      <td>0.000000</td>\n",
       "      <td>0.000000</td>\n",
       "      <td>0.000000</td>\n",
       "      <td>NaN</td>\n",
       "      <td>NaN</td>\n",
       "      <td>0.000000</td>\n",
       "      <td>0.000000</td>\n",
       "      <td>1361762651.000000</td>\n",
       "      <td>Samsung</td>\n",
       "      <td>Samsung Galaxy A8 (2018)</td>\n",
       "      <td>NaN</td>\n",
       "      <td>NaN</td>\n",
       "      <td>NaN</td>\n",
       "      <td>NaN</td>\n",
       "      <td>NaN</td>\n",
       "      <td>NaN</td>\n",
       "      <td>751.000000</td>\n",
       "      <td>695.000000</td>\n",
       "      <td>1684053.000000</td>\n",
       "      <td>42224.000000</td>\n",
       "      <td>8535055.000000</td>\n",
       "      <td>1694064.000000</td>\n",
       "      <td>2690151.000000</td>\n",
       "      <td>672973.000000</td>\n",
       "      <td>19725661.000000</td>\n",
       "      <td>14699576.000000</td>\n",
       "      <td>17587794.000000</td>\n",
       "      <td>6163408.000000</td>\n",
       "      <td>229584621.000000</td>\n",
       "      <td>395630.000000</td>\n",
       "      <td>410692588.000000</td>\n",
       "      <td>4215763.000000</td>\n",
       "      <td>27883638.000000</td>\n",
       "      <td>279807335.000000</td>\n",
       "    </tr>\n",
       "    <tr>\n",
       "      <th>3</th>\n",
       "      <td>13114483485442799616.000000</td>\n",
       "      <td>4/10/2019 0:31</td>\n",
       "      <td>486.000000</td>\n",
       "      <td>4/25/2019 7:36</td>\n",
       "      <td>171.000000</td>\n",
       "      <td>1321509.000000</td>\n",
       "      <td>208201402342131.000000</td>\n",
       "      <td>33750343200.000000</td>\n",
       "      <td>35356610164913.000000</td>\n",
       "      <td>T21824A</td>\n",
       "      <td>NaN</td>\n",
       "      <td>NaN</td>\n",
       "      <td>44.000000</td>\n",
       "      <td>44.000000</td>\n",
       "      <td>NaN</td>\n",
       "      <td>NaN</td>\n",
       "      <td>100.000000</td>\n",
       "      <td>0.000000</td>\n",
       "      <td>0.000000</td>\n",
       "      <td>0.000000</td>\n",
       "      <td>100.000000</td>\n",
       "      <td>0.000000</td>\n",
       "      <td>0.000000</td>\n",
       "      <td>0.000000</td>\n",
       "      <td>NaN</td>\n",
       "      <td>NaN</td>\n",
       "      <td>3330.000000</td>\n",
       "      <td>37882.000000</td>\n",
       "      <td>1321509685.000000</td>\n",
       "      <td>undefined</td>\n",
       "      <td>undefined</td>\n",
       "      <td>NaN</td>\n",
       "      <td>NaN</td>\n",
       "      <td>NaN</td>\n",
       "      <td>NaN</td>\n",
       "      <td>NaN</td>\n",
       "      <td>NaN</td>\n",
       "      <td>17.000000</td>\n",
       "      <td>207.000000</td>\n",
       "      <td>644121.000000</td>\n",
       "      <td>13372.000000</td>\n",
       "      <td>9023734.000000</td>\n",
       "      <td>2788027.000000</td>\n",
       "      <td>1439754.000000</td>\n",
       "      <td>631229.000000</td>\n",
       "      <td>21388122.000000</td>\n",
       "      <td>15146643.000000</td>\n",
       "      <td>13994646.000000</td>\n",
       "      <td>1097942.000000</td>\n",
       "      <td>799538153.000000</td>\n",
       "      <td>10849722.000000</td>\n",
       "      <td>749039933.000000</td>\n",
       "      <td>12797283.000000</td>\n",
       "      <td>43324218.000000</td>\n",
       "      <td>846028530.000000</td>\n",
       "    </tr>\n",
       "    <tr>\n",
       "      <th>4</th>\n",
       "      <td>13114483499480700928.000000</td>\n",
       "      <td>4/12/2019 20:10</td>\n",
       "      <td>565.000000</td>\n",
       "      <td>4/25/2019 10:40</td>\n",
       "      <td>954.000000</td>\n",
       "      <td>1089009.000000</td>\n",
       "      <td>208201401415120.000000</td>\n",
       "      <td>33699795932.000000</td>\n",
       "      <td>35407009745539.000000</td>\n",
       "      <td>D88865A</td>\n",
       "      <td>NaN</td>\n",
       "      <td>NaN</td>\n",
       "      <td>6.000000</td>\n",
       "      <td>9.000000</td>\n",
       "      <td>NaN</td>\n",
       "      <td>NaN</td>\n",
       "      <td>100.000000</td>\n",
       "      <td>0.000000</td>\n",
       "      <td>0.000000</td>\n",
       "      <td>0.000000</td>\n",
       "      <td>100.000000</td>\n",
       "      <td>0.000000</td>\n",
       "      <td>0.000000</td>\n",
       "      <td>0.000000</td>\n",
       "      <td>NaN</td>\n",
       "      <td>NaN</td>\n",
       "      <td>0.000000</td>\n",
       "      <td>0.000000</td>\n",
       "      <td>1089009389.000000</td>\n",
       "      <td>Samsung</td>\n",
       "      <td>Samsung Sm-G390F</td>\n",
       "      <td>NaN</td>\n",
       "      <td>NaN</td>\n",
       "      <td>NaN</td>\n",
       "      <td>NaN</td>\n",
       "      <td>NaN</td>\n",
       "      <td>NaN</td>\n",
       "      <td>607.000000</td>\n",
       "      <td>604.000000</td>\n",
       "      <td>862600.000000</td>\n",
       "      <td>50188.000000</td>\n",
       "      <td>6248284.000000</td>\n",
       "      <td>1500559.000000</td>\n",
       "      <td>1936496.000000</td>\n",
       "      <td>173853.000000</td>\n",
       "      <td>15259380.000000</td>\n",
       "      <td>18962873.000000</td>\n",
       "      <td>17124581.000000</td>\n",
       "      <td>415218.000000</td>\n",
       "      <td>527707248.000000</td>\n",
       "      <td>3529801.000000</td>\n",
       "      <td>550709500.000000</td>\n",
       "      <td>13910322.000000</td>\n",
       "      <td>38542814.000000</td>\n",
       "      <td>569138589.000000</td>\n",
       "    </tr>\n",
       "  </tbody>\n",
       "</table>\n",
       "</div>"
      ],
      "text/plain": [
       "                    Bearer Id            Start   Start ms              End  \\\n",
       "0 13114483460844900352.000000   4/4/2019 12:01 770.000000  4/25/2019 14:35   \n",
       "1 13114483482878900224.000000   4/9/2019 13:04 235.000000   4/25/2019 8:15   \n",
       "2 13114483484080500736.000000   4/9/2019 17:42   1.000000  4/25/2019 11:58   \n",
       "3 13114483485442799616.000000   4/10/2019 0:31 486.000000   4/25/2019 7:36   \n",
       "4 13114483499480700928.000000  4/12/2019 20:10 565.000000  4/25/2019 10:40   \n",
       "\n",
       "      End ms      Dur. (ms)                   IMSI      MSISDN/Number  \\\n",
       "0 662.000000 1823652.000000 208201448079117.000000 33664962239.000000   \n",
       "1 606.000000 1365104.000000 208201909211140.000000 33681854413.000000   \n",
       "2 652.000000 1361762.000000 208200314458056.000000 33760627129.000000   \n",
       "3 171.000000 1321509.000000 208201402342131.000000 33750343200.000000   \n",
       "4 954.000000 1089009.000000 208201401415120.000000 33699795932.000000   \n",
       "\n",
       "                   IMEI     Last Location Name  Avg RTT DL (ms)  \\\n",
       "0 35521209507511.000000  9.16456699548519E+015        42.000000   \n",
       "1 35794009006359.000000                L77566A        65.000000   \n",
       "2 35281510359387.000000                D42335A              NaN   \n",
       "3 35356610164913.000000                T21824A              NaN   \n",
       "4 35407009745539.000000                D88865A              NaN   \n",
       "\n",
       "   Avg RTT UL (ms)  Avg Bearer TP DL (kbps)  Avg Bearer TP UL (kbps)  \\\n",
       "0         5.000000                23.000000                44.000000   \n",
       "1         5.000000                16.000000                26.000000   \n",
       "2              NaN                 6.000000                 9.000000   \n",
       "3              NaN                44.000000                44.000000   \n",
       "4              NaN                 6.000000                 9.000000   \n",
       "\n",
       "   TCP DL Retrans. Vol (Bytes)  TCP UL Retrans. Vol (Bytes)  \\\n",
       "0                          NaN                          NaN   \n",
       "1                          NaN                          NaN   \n",
       "2                          NaN                          NaN   \n",
       "3                          NaN                          NaN   \n",
       "4                          NaN                          NaN   \n",
       "\n",
       "   DL TP < 50 Kbps (%)  50 Kbps < DL TP < 250 Kbps (%)  \\\n",
       "0           100.000000                        0.000000   \n",
       "1           100.000000                        0.000000   \n",
       "2           100.000000                        0.000000   \n",
       "3           100.000000                        0.000000   \n",
       "4           100.000000                        0.000000   \n",
       "\n",
       "   250 Kbps < DL TP < 1 Mbps (%)  DL TP > 1 Mbps (%)  UL TP < 10 Kbps (%)  \\\n",
       "0                       0.000000            0.000000           100.000000   \n",
       "1                       0.000000            0.000000           100.000000   \n",
       "2                       0.000000            0.000000           100.000000   \n",
       "3                       0.000000            0.000000           100.000000   \n",
       "4                       0.000000            0.000000           100.000000   \n",
       "\n",
       "   10 Kbps < UL TP < 50 Kbps (%)  50 Kbps < UL TP < 300 Kbps (%)  \\\n",
       "0                       0.000000                        0.000000   \n",
       "1                       0.000000                        0.000000   \n",
       "2                       0.000000                        0.000000   \n",
       "3                       0.000000                        0.000000   \n",
       "4                       0.000000                        0.000000   \n",
       "\n",
       "   UL TP > 300 Kbps (%)  HTTP DL (Bytes)  HTTP UL (Bytes)  \\\n",
       "0              0.000000              NaN              NaN   \n",
       "1              0.000000              NaN              NaN   \n",
       "2              0.000000              NaN              NaN   \n",
       "3              0.000000              NaN              NaN   \n",
       "4              0.000000              NaN              NaN   \n",
       "\n",
       "   Activity Duration DL (ms)  Activity Duration UL (ms)       Dur. (ms).1  \\\n",
       "0               37624.000000               38787.000000 1823652892.000000   \n",
       "1                 168.000000                3560.000000 1365104371.000000   \n",
       "2                   0.000000                   0.000000 1361762651.000000   \n",
       "3                3330.000000               37882.000000 1321509685.000000   \n",
       "4                   0.000000                   0.000000 1089009389.000000   \n",
       "\n",
       "  Handset Manufacturer                 Handset Type  \\\n",
       "0              Samsung   Samsung Galaxy A5 Sm-A520F   \n",
       "1              Samsung  Samsung Galaxy J5 (Sm-J530)   \n",
       "2              Samsung     Samsung Galaxy A8 (2018)   \n",
       "3            undefined                    undefined   \n",
       "4              Samsung             Samsung Sm-G390F   \n",
       "\n",
       "   Nb of sec with 125000B < Vol DL  Nb of sec with 1250B < Vol UL < 6250B  \\\n",
       "0                              NaN                                    NaN   \n",
       "1                              NaN                                    NaN   \n",
       "2                              NaN                                    NaN   \n",
       "3                              NaN                                    NaN   \n",
       "4                              NaN                                    NaN   \n",
       "\n",
       "   Nb of sec with 31250B < Vol DL < 125000B  Nb of sec with 37500B < Vol UL  \\\n",
       "0                                       NaN                             NaN   \n",
       "1                                       NaN                             NaN   \n",
       "2                                       NaN                             NaN   \n",
       "3                                       NaN                             NaN   \n",
       "4                                       NaN                             NaN   \n",
       "\n",
       "   Nb of sec with 6250B < Vol DL < 31250B  \\\n",
       "0                                     NaN   \n",
       "1                                     NaN   \n",
       "2                                     NaN   \n",
       "3                                     NaN   \n",
       "4                                     NaN   \n",
       "\n",
       "   Nb of sec with 6250B < Vol UL < 37500B  Nb of sec with Vol DL < 6250B  \\\n",
       "0                                     NaN                     213.000000   \n",
       "1                                     NaN                     971.000000   \n",
       "2                                     NaN                     751.000000   \n",
       "3                                     NaN                      17.000000   \n",
       "4                                     NaN                     607.000000   \n",
       "\n",
       "   Nb of sec with Vol UL < 1250B  Social Media DL (Bytes)  \\\n",
       "0                     214.000000           1545765.000000   \n",
       "1                    1022.000000           1926113.000000   \n",
       "2                     695.000000           1684053.000000   \n",
       "3                     207.000000            644121.000000   \n",
       "4                     604.000000            862600.000000   \n",
       "\n",
       "   Social Media UL (Bytes)  Google DL (Bytes)  Google UL (Bytes)  \\\n",
       "0             24420.000000     1634479.000000     1271433.000000   \n",
       "1              7165.000000     3493924.000000      920172.000000   \n",
       "2             42224.000000     8535055.000000     1694064.000000   \n",
       "3             13372.000000     9023734.000000     2788027.000000   \n",
       "4             50188.000000     6248284.000000     1500559.000000   \n",
       "\n",
       "   Email DL (Bytes)  Email UL (Bytes)  Youtube DL (Bytes)  Youtube UL (Bytes)  \\\n",
       "0    3563542.000000     137762.000000     15854611.000000      2501332.000000   \n",
       "1     629046.000000     308339.000000     20247395.000000     19111729.000000   \n",
       "2    2690151.000000     672973.000000     19725661.000000     14699576.000000   \n",
       "3    1439754.000000     631229.000000     21388122.000000     15146643.000000   \n",
       "4    1936496.000000     173853.000000     15259380.000000     18962873.000000   \n",
       "\n",
       "   Netflix DL (Bytes)  Netflix UL (Bytes)  Gaming DL (Bytes)  \\\n",
       "0      8198936.000000      9656251.000000   278082303.000000   \n",
       "1     18338413.000000     17227132.000000   608750074.000000   \n",
       "2     17587794.000000      6163408.000000   229584621.000000   \n",
       "3     13994646.000000      1097942.000000   799538153.000000   \n",
       "4     17124581.000000       415218.000000   527707248.000000   \n",
       "\n",
       "   Gaming UL (Bytes)  Other DL (Bytes)  Other UL (Bytes)  Total UL (Bytes)  \\\n",
       "0    14344150.000000  171744450.000000    8814393.000000   36749741.000000   \n",
       "1     1170709.000000  526904238.000000   15055145.000000   53800391.000000   \n",
       "2      395630.000000  410692588.000000    4215763.000000   27883638.000000   \n",
       "3    10849722.000000  749039933.000000   12797283.000000   43324218.000000   \n",
       "4     3529801.000000  550709500.000000   13910322.000000   38542814.000000   \n",
       "\n",
       "   Total DL (Bytes)  \n",
       "0  308879636.000000  \n",
       "1  653384965.000000  \n",
       "2  279807335.000000  \n",
       "3  846028530.000000  \n",
       "4  569138589.000000  "
      ]
     },
     "execution_count": 2,
     "metadata": {},
     "output_type": "execute_result"
    }
   ],
   "source": [
    "url = 'https://raw.githubusercontent.com/katenjoki/Telecom_Week1Challenge/main/OneDrive/Desktop/10Academy/Telecom_Week1Challenge/data/Week1_challenge_data_source(CSV).csv'\n",
    "data = pd.read_csv(url)\n",
    "data.head()"
   ]
  },
  {
   "cell_type": "code",
   "execution_count": 3,
   "metadata": {},
   "outputs": [
    {
     "data": {
      "text/plain": [
       "(150001, 55)"
      ]
     },
     "execution_count": 3,
     "metadata": {},
     "output_type": "execute_result"
    }
   ],
   "source": [
    "data.shape"
   ]
  },
  {
   "cell_type": "code",
   "execution_count": 4,
   "metadata": {},
   "outputs": [
    {
     "name": "stdout",
     "output_type": "stream",
     "text": [
      "<class 'pandas.core.frame.DataFrame'>\n",
      "RangeIndex: 150001 entries, 0 to 150000\n",
      "Data columns (total 55 columns):\n",
      " #   Column                                    Non-Null Count   Dtype  \n",
      "---  ------                                    --------------   -----  \n",
      " 0   Bearer Id                                 149010 non-null  float64\n",
      " 1   Start                                     150000 non-null  object \n",
      " 2   Start ms                                  150000 non-null  float64\n",
      " 3   End                                       150000 non-null  object \n",
      " 4   End ms                                    150000 non-null  float64\n",
      " 5   Dur. (ms)                                 150000 non-null  float64\n",
      " 6   IMSI                                      149431 non-null  float64\n",
      " 7   MSISDN/Number                             148935 non-null  float64\n",
      " 8   IMEI                                      149429 non-null  float64\n",
      " 9   Last Location Name                        148848 non-null  object \n",
      " 10  Avg RTT DL (ms)                           122172 non-null  float64\n",
      " 11  Avg RTT UL (ms)                           122189 non-null  float64\n",
      " 12  Avg Bearer TP DL (kbps)                   150000 non-null  float64\n",
      " 13  Avg Bearer TP UL (kbps)                   150000 non-null  float64\n",
      " 14  TCP DL Retrans. Vol (Bytes)               61855 non-null   float64\n",
      " 15  TCP UL Retrans. Vol (Bytes)               53352 non-null   float64\n",
      " 16  DL TP < 50 Kbps (%)                       149247 non-null  float64\n",
      " 17  50 Kbps < DL TP < 250 Kbps (%)            149247 non-null  float64\n",
      " 18  250 Kbps < DL TP < 1 Mbps (%)             149247 non-null  float64\n",
      " 19  DL TP > 1 Mbps (%)                        149247 non-null  float64\n",
      " 20  UL TP < 10 Kbps (%)                       149209 non-null  float64\n",
      " 21  10 Kbps < UL TP < 50 Kbps (%)             149209 non-null  float64\n",
      " 22  50 Kbps < UL TP < 300 Kbps (%)            149209 non-null  float64\n",
      " 23  UL TP > 300 Kbps (%)                      149209 non-null  float64\n",
      " 24  HTTP DL (Bytes)                           68527 non-null   float64\n",
      " 25  HTTP UL (Bytes)                           68191 non-null   float64\n",
      " 26  Activity Duration DL (ms)                 150000 non-null  float64\n",
      " 27  Activity Duration UL (ms)                 150000 non-null  float64\n",
      " 28  Dur. (ms).1                               150000 non-null  float64\n",
      " 29  Handset Manufacturer                      149429 non-null  object \n",
      " 30  Handset Type                              149429 non-null  object \n",
      " 31  Nb of sec with 125000B < Vol DL           52463 non-null   float64\n",
      " 32  Nb of sec with 1250B < Vol UL < 6250B     57107 non-null   float64\n",
      " 33  Nb of sec with 31250B < Vol DL < 125000B  56415 non-null   float64\n",
      " 34  Nb of sec with 37500B < Vol UL            19747 non-null   float64\n",
      " 35  Nb of sec with 6250B < Vol DL < 31250B    61684 non-null   float64\n",
      " 36  Nb of sec with 6250B < Vol UL < 37500B    38158 non-null   float64\n",
      " 37  Nb of sec with Vol DL < 6250B             149246 non-null  float64\n",
      " 38  Nb of sec with Vol UL < 1250B             149208 non-null  float64\n",
      " 39  Social Media DL (Bytes)                   150001 non-null  float64\n",
      " 40  Social Media UL (Bytes)                   150001 non-null  float64\n",
      " 41  Google DL (Bytes)                         150001 non-null  float64\n",
      " 42  Google UL (Bytes)                         150001 non-null  float64\n",
      " 43  Email DL (Bytes)                          150001 non-null  float64\n",
      " 44  Email UL (Bytes)                          150001 non-null  float64\n",
      " 45  Youtube DL (Bytes)                        150001 non-null  float64\n",
      " 46  Youtube UL (Bytes)                        150001 non-null  float64\n",
      " 47  Netflix DL (Bytes)                        150001 non-null  float64\n",
      " 48  Netflix UL (Bytes)                        150001 non-null  float64\n",
      " 49  Gaming DL (Bytes)                         150001 non-null  float64\n",
      " 50  Gaming UL (Bytes)                         150001 non-null  float64\n",
      " 51  Other DL (Bytes)                          150001 non-null  float64\n",
      " 52  Other UL (Bytes)                          150001 non-null  float64\n",
      " 53  Total UL (Bytes)                          150000 non-null  float64\n",
      " 54  Total DL (Bytes)                          150000 non-null  float64\n",
      "dtypes: float64(50), object(5)\n",
      "memory usage: 62.9+ MB\n"
     ]
    }
   ],
   "source": [
    "data.info()"
   ]
  },
  {
   "cell_type": "markdown",
   "metadata": {},
   "source": [
    "<h2>Task 1 : User Overview Analysis </h2>"
   ]
  },
  {
   "cell_type": "markdown",
   "metadata": {},
   "source": [
    "<h3> Data Cleaning </h3>"
   ]
  },
  {
   "cell_type": "code",
   "execution_count": 5,
   "metadata": {},
   "outputs": [
    {
     "data": {
      "text/plain": [
       "['Bearer_Id',\n",
       " 'Start',\n",
       " 'Start_ms',\n",
       " 'End',\n",
       " 'End_ms',\n",
       " 'Dur._(ms)',\n",
       " 'IMSI',\n",
       " 'MSISDN/Number',\n",
       " 'IMEI',\n",
       " 'Last_Location_Name',\n",
       " 'Avg_RTT_DL_(ms)',\n",
       " 'Avg_RTT_UL_(ms)',\n",
       " 'Avg_Bearer_TP_DL_(kbps)',\n",
       " 'Avg_Bearer_TP_UL_(kbps)',\n",
       " 'TCP_DL_Retrans._Vol_(Bytes)',\n",
       " 'TCP_UL_Retrans._Vol_(Bytes)',\n",
       " 'DL_TP_<_50_Kbps_(%)',\n",
       " '50_Kbps_<_DL_TP_<_250_Kbps_(%)',\n",
       " '250_Kbps_<_DL_TP_<_1_Mbps_(%)',\n",
       " 'DL_TP_>_1_Mbps_(%)',\n",
       " 'UL_TP_<_10_Kbps_(%)',\n",
       " '10_Kbps_<_UL_TP_<_50_Kbps_(%)',\n",
       " '50_Kbps_<_UL_TP_<_300_Kbps_(%)',\n",
       " 'UL_TP_>_300_Kbps_(%)',\n",
       " 'HTTP_DL_(Bytes)',\n",
       " 'HTTP_UL_(Bytes)',\n",
       " 'Activity_Duration_DL_(ms)',\n",
       " 'Activity_Duration_UL_(ms)',\n",
       " 'Dur._(ms).1',\n",
       " 'Handset_Manufacturer',\n",
       " 'Handset_Type',\n",
       " 'Nb_of_sec_with_125000B_<_Vol_DL',\n",
       " 'Nb_of_sec_with_1250B_<_Vol_UL_<_6250B',\n",
       " 'Nb_of_sec_with_31250B_<_Vol_DL_<_125000B',\n",
       " 'Nb_of_sec_with_37500B_<_Vol_UL',\n",
       " 'Nb_of_sec_with_6250B_<_Vol_DL_<_31250B',\n",
       " 'Nb_of_sec_with_6250B_<_Vol_UL_<_37500B',\n",
       " 'Nb_of_sec_with_Vol_DL_<_6250B',\n",
       " 'Nb_of_sec_with_Vol_UL_<_1250B',\n",
       " 'Social_Media_DL_(Bytes)',\n",
       " 'Social_Media_UL_(Bytes)',\n",
       " 'Google_DL_(Bytes)',\n",
       " 'Google_UL_(Bytes)',\n",
       " 'Email_DL_(Bytes)',\n",
       " 'Email_UL_(Bytes)',\n",
       " 'Youtube_DL_(Bytes)',\n",
       " 'Youtube_UL_(Bytes)',\n",
       " 'Netflix_DL_(Bytes)',\n",
       " 'Netflix_UL_(Bytes)',\n",
       " 'Gaming_DL_(Bytes)',\n",
       " 'Gaming_UL_(Bytes)',\n",
       " 'Other_DL_(Bytes)',\n",
       " 'Other_UL_(Bytes)',\n",
       " 'Total_UL_(Bytes)',\n",
       " 'Total_DL_(Bytes)']"
      ]
     },
     "execution_count": 5,
     "metadata": {},
     "output_type": "execute_result"
    }
   ],
   "source": [
    "data.columns = data.columns.str.replace(' ','_')\n",
    "data.columns.to_list()"
   ]
  },
  {
   "cell_type": "markdown",
   "metadata": {},
   "source": [
    "**Checking for null values**"
   ]
  },
  {
   "cell_type": "code",
   "execution_count": 6,
   "metadata": {},
   "outputs": [
    {
     "data": {
      "text/plain": [
       "False"
      ]
     },
     "execution_count": 6,
     "metadata": {},
     "output_type": "execute_result"
    }
   ],
   "source": [
    "#Check if there are rows where all column values are null\n",
    "check_null = data.columns.isnull().any()\n",
    "check_null"
   ]
  },
  {
   "cell_type": "code",
   "execution_count": 7,
   "metadata": {},
   "outputs": [
    {
     "name": "stdout",
     "output_type": "stream",
     "text": [
      "The Telcommunication dataset has  12.501637867868759 % null values.\n"
     ]
    }
   ],
   "source": [
    "#% of null values\n",
    "def null_analysis(df):\n",
    "    total_values = np.product(df.shape)\n",
    "    total_null = (df.isnull().sum()).sum()\n",
    "    proportion_null = (total_null / total_values)*100\n",
    "    \n",
    "    print(\"The Telcommunication dataset has \",proportion_null,\"% null values.\")\n",
    "\n",
    "null_analysis(data)"
   ]
  },
  {
   "cell_type": "markdown",
   "metadata": {},
   "source": [
    "**Finding columns that have more than 30% of null values**"
   ]
  },
  {
   "cell_type": "code",
   "execution_count": 8,
   "metadata": {},
   "outputs": [
    {
     "name": "stdout",
     "output_type": "stream",
     "text": [
      "                                            null     %null\n",
      "TCP_DL_Retrans._Vol_(Bytes)                88146 58.763608\n",
      "TCP_UL_Retrans._Vol_(Bytes)                96649 64.432237\n",
      "HTTP_DL_(Bytes)                            81474 54.315638\n",
      "HTTP_UL_(Bytes)                            81810 54.539636\n",
      "Nb_of_sec_with_125000B_<_Vol_DL            97538 65.024900\n",
      "Nb_of_sec_with_1250B_<_Vol_UL_<_6250B      92894 61.928920\n",
      "Nb_of_sec_with_31250B_<_Vol_DL_<_125000B   93586 62.390251\n",
      "Nb_of_sec_with_37500B_<_Vol_UL            130254 86.835421\n",
      "Nb_of_sec_with_6250B_<_Vol_DL_<_31250B     88317 58.877607\n",
      "Nb_of_sec_with_6250B_<_Vol_UL_<_37500B    111843 74.561503\n"
     ]
    }
   ],
   "source": [
    "def null_per_column(df):\n",
    "    dataset = df.isnull().sum()\n",
    "    dataset = pd.DataFrame(dataset,columns=['null'])\n",
    "    dataset['%null'] = (dataset['null']/df.shape[0])*100\n",
    "    dataframe = dataset[dataset['%null']>=30]\n",
    "    print(dataframe)    \n",
    "    #print('\\n List of columns with more than 30% null values:\\n',dataframe.index.to_list())\n",
    "\n",
    "null_per_column(data)"
   ]
  },
  {
   "cell_type": "code",
   "execution_count": 9,
   "metadata": {},
   "outputs": [
    {
     "data": {
      "text/plain": [
       "(150001, 45)"
      ]
     },
     "execution_count": 9,
     "metadata": {},
     "output_type": "execute_result"
    }
   ],
   "source": [
    "#Dropping columns with more than 30% null values\n",
    "data=data.drop(['TCP_DL_Retrans._Vol_(Bytes)', 'TCP_UL_Retrans._Vol_(Bytes)', 'HTTP_DL_(Bytes)', 'HTTP_UL_(Bytes)', 'Nb_of_sec_with_125000B_<_Vol_DL', 'Nb_of_sec_with_1250B_<_Vol_UL_<_6250B', 'Nb_of_sec_with_31250B_<_Vol_DL_<_125000B', 'Nb_of_sec_with_37500B_<_Vol_UL', 'Nb_of_sec_with_6250B_<_Vol_DL_<_31250B', 'Nb_of_sec_with_6250B_<_Vol_UL_<_37500B'],axis=1)\n",
    "data.shape"
   ]
  },
  {
   "cell_type": "code",
   "execution_count": 10,
   "metadata": {},
   "outputs": [
    {
     "data": {
      "text/plain": [
       "Bearer_Id                           991\n",
       "Start                                 1\n",
       "Start_ms                              1\n",
       "End                                   1\n",
       "End_ms                                1\n",
       "Dur._(ms)                             1\n",
       "IMSI                                570\n",
       "MSISDN/Number                      1066\n",
       "IMEI                                572\n",
       "Last_Location_Name                 1153\n",
       "Avg_RTT_DL_(ms)                   27829\n",
       "Avg_RTT_UL_(ms)                   27812\n",
       "Avg_Bearer_TP_DL_(kbps)               1\n",
       "Avg_Bearer_TP_UL_(kbps)               1\n",
       "DL_TP_<_50_Kbps_(%)                 754\n",
       "50_Kbps_<_DL_TP_<_250_Kbps_(%)      754\n",
       "250_Kbps_<_DL_TP_<_1_Mbps_(%)       754\n",
       "DL_TP_>_1_Mbps_(%)                  754\n",
       "UL_TP_<_10_Kbps_(%)                 792\n",
       "10_Kbps_<_UL_TP_<_50_Kbps_(%)       792\n",
       "50_Kbps_<_UL_TP_<_300_Kbps_(%)      792\n",
       "UL_TP_>_300_Kbps_(%)                792\n",
       "Activity_Duration_DL_(ms)             1\n",
       "Activity_Duration_UL_(ms)             1\n",
       "Dur._(ms).1                           1\n",
       "Handset_Manufacturer                572\n",
       "Handset_Type                        572\n",
       "Nb_of_sec_with_Vol_DL_<_6250B       755\n",
       "Nb_of_sec_with_Vol_UL_<_1250B       793\n",
       "Social_Media_DL_(Bytes)               0\n",
       "Social_Media_UL_(Bytes)               0\n",
       "Google_DL_(Bytes)                     0\n",
       "Google_UL_(Bytes)                     0\n",
       "Email_DL_(Bytes)                      0\n",
       "Email_UL_(Bytes)                      0\n",
       "Youtube_DL_(Bytes)                    0\n",
       "Youtube_UL_(Bytes)                    0\n",
       "Netflix_DL_(Bytes)                    0\n",
       "Netflix_UL_(Bytes)                    0\n",
       "Gaming_DL_(Bytes)                     0\n",
       "Gaming_UL_(Bytes)                     0\n",
       "Other_DL_(Bytes)                      0\n",
       "Other_UL_(Bytes)                      0\n",
       "Total_UL_(Bytes)                      1\n",
       "Total_DL_(Bytes)                      1\n",
       "dtype: int64"
      ]
     },
     "execution_count": 10,
     "metadata": {},
     "output_type": "execute_result"
    }
   ],
   "source": [
    "data.isnull().sum()"
   ]
  },
  {
   "cell_type": "markdown",
   "metadata": {},
   "source": [
    "* Column Bearer Id has 991 values, we drop these rows as the Bearer Id should be a unique identifier"
   ]
  },
  {
   "cell_type": "code",
   "execution_count": 11,
   "metadata": {},
   "outputs": [
    {
     "data": {
      "text/plain": [
       "Bearer_Id                             0\n",
       "Start                                 0\n",
       "Start_ms                              0\n",
       "End                                   0\n",
       "End_ms                                0\n",
       "Dur._(ms)                             0\n",
       "IMSI                                  9\n",
       "MSISDN/Number                       504\n",
       "IMEI                                 11\n",
       "Last_Location_Name                  162\n",
       "Avg_RTT_DL_(ms)                   27685\n",
       "Avg_RTT_UL_(ms)                   27666\n",
       "Avg_Bearer_TP_DL_(kbps)               0\n",
       "Avg_Bearer_TP_UL_(kbps)               0\n",
       "DL_TP_<_50_Kbps_(%)                 716\n",
       "50_Kbps_<_DL_TP_<_250_Kbps_(%)      716\n",
       "250_Kbps_<_DL_TP_<_1_Mbps_(%)       716\n",
       "DL_TP_>_1_Mbps_(%)                  716\n",
       "UL_TP_<_10_Kbps_(%)                 770\n",
       "10_Kbps_<_UL_TP_<_50_Kbps_(%)       770\n",
       "50_Kbps_<_UL_TP_<_300_Kbps_(%)      770\n",
       "UL_TP_>_300_Kbps_(%)                770\n",
       "Activity_Duration_DL_(ms)             0\n",
       "Activity_Duration_UL_(ms)             0\n",
       "Dur._(ms).1                           0\n",
       "Handset_Manufacturer                 11\n",
       "Handset_Type                         11\n",
       "Nb_of_sec_with_Vol_DL_<_6250B       717\n",
       "Nb_of_sec_with_Vol_UL_<_1250B       771\n",
       "Social_Media_DL_(Bytes)               0\n",
       "Social_Media_UL_(Bytes)               0\n",
       "Google_DL_(Bytes)                     0\n",
       "Google_UL_(Bytes)                     0\n",
       "Email_DL_(Bytes)                      0\n",
       "Email_UL_(Bytes)                      0\n",
       "Youtube_DL_(Bytes)                    0\n",
       "Youtube_UL_(Bytes)                    0\n",
       "Netflix_DL_(Bytes)                    0\n",
       "Netflix_UL_(Bytes)                    0\n",
       "Gaming_DL_(Bytes)                     0\n",
       "Gaming_UL_(Bytes)                     0\n",
       "Other_DL_(Bytes)                      0\n",
       "Other_UL_(Bytes)                      0\n",
       "Total_UL_(Bytes)                      0\n",
       "Total_DL_(Bytes)                      0\n",
       "dtype: int64"
      ]
     },
     "execution_count": 11,
     "metadata": {},
     "output_type": "execute_result"
    }
   ],
   "source": [
    "data = data[data['Bearer_Id'].notna()]\n",
    "data.isnull().sum()"
   ]
  },
  {
   "cell_type": "code",
   "execution_count": 12,
   "metadata": {},
   "outputs": [],
   "source": [
    "#replace null values for object types with mode\n",
    "def null_objects(df,column):\n",
    "    df[column] = df[column].fillna(df[column].mode()[0])\n",
    "    return df[column]\n",
    "\n",
    "data['Last_Location_Name'] = null_objects(data,'Last_Location_Name')\n",
    "data['Handset_Manufacturer'] = null_objects(data,'Handset_Manufacturer')\n",
    "data['Handset_Type']= null_objects(data,'Handset_Type')"
   ]
  },
  {
   "cell_type": "code",
   "execution_count": 13,
   "metadata": {},
   "outputs": [
    {
     "name": "stdout",
     "output_type": "stream",
     "text": [
      "['IMSI', 'MSISDN/Number', 'IMEI', 'Avg_RTT_DL_(ms)', 'Avg_RTT_UL_(ms)', 'DL_TP_<_50_Kbps_(%)', '50_Kbps_<_DL_TP_<_250_Kbps_(%)', '250_Kbps_<_DL_TP_<_1_Mbps_(%)', 'DL_TP_>_1_Mbps_(%)', 'UL_TP_<_10_Kbps_(%)', '10_Kbps_<_UL_TP_<_50_Kbps_(%)', '50_Kbps_<_UL_TP_<_300_Kbps_(%)', 'UL_TP_>_300_Kbps_(%)', 'Nb_of_sec_with_Vol_DL_<_6250B', 'Nb_of_sec_with_Vol_UL_<_1250B']\n"
     ]
    }
   ],
   "source": [
    "#list of columns with null values,\n",
    "def null_values(df):\n",
    "    dataframe=df.isnull().sum()\n",
    "    dataframe=pd.DataFrame(dataframe,columns=['null'])\n",
    "    dataframe=dataframe[dataframe['null']>0]\n",
    "    print(dataframe.index.to_list())\n",
    "\n",
    "null_values(data)"
   ]
  },
  {
   "cell_type": "code",
   "execution_count": 14,
   "metadata": {},
   "outputs": [
    {
     "data": {
      "text/plain": [
       "IMSI                              40.987487\n",
       "MSISDN/Number                    331.677128\n",
       "IMEI                               1.070670\n",
       "Avg_RTT_DL_(ms)                   66.756066\n",
       "Avg_RTT_UL_(ms)                   28.499279\n",
       "DL_TP_<_50_Kbps_(%)               -2.298563\n",
       "50_Kbps_<_DL_TP_<_250_Kbps_(%)     3.273358\n",
       "250_Kbps_<_DL_TP_<_1_Mbps_(%)      4.571437\n",
       "DL_TP_>_1_Mbps_(%)                 5.361127\n",
       "UL_TP_<_10_Kbps_(%)               -8.985914\n",
       "10_Kbps_<_UL_TP_<_50_Kbps_(%)     10.946940\n",
       "50_Kbps_<_UL_TP_<_300_Kbps_(%)    21.833582\n",
       "UL_TP_>_300_Kbps_(%)              36.151871\n",
       "Nb_of_sec_with_Vol_DL_<_6250B      9.024910\n",
       "Nb_of_sec_with_Vol_UL_<_1250B      7.482728\n",
       "dtype: float64"
      ]
     },
     "execution_count": 14,
     "metadata": {},
     "output_type": "execute_result"
    }
   ],
   "source": [
    "#check skewness\n",
    "data_test=data[['IMSI', 'MSISDN/Number', 'IMEI', 'Avg_RTT_DL_(ms)', 'Avg_RTT_UL_(ms)', 'DL_TP_<_50_Kbps_(%)', '50_Kbps_<_DL_TP_<_250_Kbps_(%)', '250_Kbps_<_DL_TP_<_1_Mbps_(%)', 'DL_TP_>_1_Mbps_(%)', 'UL_TP_<_10_Kbps_(%)', '10_Kbps_<_UL_TP_<_50_Kbps_(%)', '50_Kbps_<_UL_TP_<_300_Kbps_(%)', 'UL_TP_>_300_Kbps_(%)', 'Nb_of_sec_with_Vol_DL_<_6250B', 'Nb_of_sec_with_Vol_UL_<_1250B']]\n",
    "data_test.skew()"
   ]
  },
  {
   "cell_type": "code",
   "execution_count": 15,
   "metadata": {},
   "outputs": [
    {
     "data": {
      "text/plain": [
       "0"
      ]
     },
     "execution_count": 15,
     "metadata": {},
     "output_type": "execute_result"
    }
   ],
   "source": [
    "#since data is skewed we replace the null values with the median\n",
    "column_names = ['IMSI', 'MSISDN/Number', 'IMEI', 'Avg_RTT_DL_(ms)', 'Avg_RTT_UL_(ms)', 'DL_TP_<_50_Kbps_(%)', '50_Kbps_<_DL_TP_<_250_Kbps_(%)', '250_Kbps_<_DL_TP_<_1_Mbps_(%)', 'DL_TP_>_1_Mbps_(%)', 'UL_TP_<_10_Kbps_(%)', '10_Kbps_<_UL_TP_<_50_Kbps_(%)', '50_Kbps_<_UL_TP_<_300_Kbps_(%)', 'UL_TP_>_300_Kbps_(%)', 'Nb_of_sec_with_Vol_DL_<_6250B', 'Nb_of_sec_with_Vol_UL_<_1250B']\n",
    "\n",
    "for i in column_names:\n",
    "    data[i]=data[i].fillna(data[i].median())\n",
    "\n",
    "(data.isnull().sum()).sum()"
   ]
  },
  {
   "cell_type": "markdown",
   "metadata": {},
   "source": [
    "**Normalize each engagement metric, user behavior can be tracked through the following applications:  Social Media, Google, Email, Youtube, Netflix, Gaming, Other\n",
    "These variables will be used for k-means forecasting hence why we normalize**"
   ]
  },
  {
   "cell_type": "code",
   "execution_count": 16,
   "metadata": {},
   "outputs": [],
   "source": [
    "from sklearn.preprocessing import Normalizer\n",
    "\n",
    "columns = ['Social_Media_DL_(Bytes)','Social_Media_UL_(Bytes)', 'Google_DL_(Bytes)', 'Google_UL_(Bytes)','Email_DL_(Bytes)', 'Email_UL_(Bytes)', 'Youtube_DL_(Bytes)','Youtube_UL_(Bytes)', 'Netflix_DL_(Bytes)', 'Netflix_UL_(Bytes)',\n",
    "       'Gaming_DL_(Bytes)', 'Gaming_UL_(Bytes)', 'Other_DL_(Bytes)','Other_UL_(Bytes)']\n",
    "\n",
    "data[columns]=Normalizer().fit_transform(data[columns])"
   ]
  },
  {
   "cell_type": "markdown",
   "metadata": {},
   "source": [
    " **Function to determine top n entries**"
   ]
  },
  {
   "cell_type": "code",
   "execution_count": 17,
   "metadata": {},
   "outputs": [],
   "source": [
    "def top_n(df,column,n):\n",
    "    top=df[column].value_counts().head(n)\n",
    "    return top"
   ]
  },
  {
   "cell_type": "markdown",
   "metadata": {},
   "source": [
    "**Identifying the top 10 handsets used by the customers**"
   ]
  },
  {
   "cell_type": "code",
   "execution_count": 18,
   "metadata": {},
   "outputs": [
    {
     "data": {
      "text/plain": [
       "Huawei B528S-23A                19763\n",
       "Apple iPhone 6S (A1688)          9401\n",
       "Apple iPhone 6 (A1586)           9004\n",
       "undefined                        8960\n",
       "Apple iPhone 7 (A1778)           6301\n",
       "Apple iPhone Se (A1723)          5176\n",
       "Apple iPhone 8 (A1905)           4985\n",
       "Apple iPhone Xr (A2105)          4562\n",
       "Samsung Galaxy S8 (Sm-G950F)     4504\n",
       "Apple iPhone X (A1901)           3809\n",
       "Name: Handset_Type, dtype: int64"
      ]
     },
     "execution_count": 18,
     "metadata": {},
     "output_type": "execute_result"
    }
   ],
   "source": [
    "top_n(data,'Handset_Type',10)"
   ]
  },
  {
   "cell_type": "markdown",
   "metadata": {},
   "source": [
    "**Identifying the top 3 handset manufacturers**"
   ]
  },
  {
   "cell_type": "code",
   "execution_count": 19,
   "metadata": {},
   "outputs": [
    {
     "data": {
      "text/plain": [
       "Apple      59451\n",
       "Samsung    40689\n",
       "Huawei     34353\n",
       "Name: Handset_Manufacturer, dtype: int64"
      ]
     },
     "execution_count": 19,
     "metadata": {},
     "output_type": "execute_result"
    }
   ],
   "source": [
    "top_n(data,'Handset_Manufacturer',3)"
   ]
  },
  {
   "cell_type": "markdown",
   "metadata": {},
   "source": [
    "**Identifying the top 5 handsets per top 3 handset manufacturer**"
   ]
  },
  {
   "cell_type": "code",
   "execution_count": 20,
   "metadata": {},
   "outputs": [
    {
     "data": {
      "text/plain": [
       "Handset_Manufacturer  Handset_Type                  \n",
       "Apple                 Apple iPhone 6S (A1688)            9401\n",
       "                      Apple iPhone 6 (A1586)             9004\n",
       "                      Apple iPhone 7 (A1778)             6301\n",
       "                      Apple iPhone Se (A1723)            5176\n",
       "                      Apple iPhone 8 (A1905)             4985\n",
       "Huawei                Huawei B528S-23A                  19752\n",
       "                      Huawei E5180                       2079\n",
       "                      Huawei P20 Lite Huawei Nova 3E     2015\n",
       "                      Huawei P20                         1476\n",
       "                      Huawei Y6 2018                      996\n",
       "Samsung               Samsung Galaxy S8 (Sm-G950F)       4504\n",
       "                      Samsung Galaxy A5 Sm-A520F         3716\n",
       "                      Samsung Galaxy J5 (Sm-J530)        3689\n",
       "                      Samsung Galaxy J3 (Sm-J330)        3476\n",
       "                      Samsung Galaxy S7 (Sm-G930X)       3194\n",
       "Name: Handset_Type, dtype: int64"
      ]
     },
     "execution_count": 20,
     "metadata": {},
     "output_type": "execute_result"
    }
   ],
   "source": [
    "dataframe=data[['Handset_Manufacturer','Handset_Type']]\n",
    "manufacturers=top_n(data,'Handset_Manufacturer',3).index.to_list()\n",
    "dataframe = dataframe[dataframe['Handset_Manufacturer'].isin(manufacturers)]\n",
    "\n",
    "dataframe.groupby('Handset_Manufacturer').Handset_Type.value_counts().groupby(level=0,group_keys=False).head(5)"
   ]
  },
  {
   "cell_type": "markdown",
   "metadata": {},
   "source": [
    "**Overview of the users’ behavior on the applications**   "
   ]
  },
  {
   "cell_type": "code",
   "execution_count": 21,
   "metadata": {},
   "outputs": [
    {
     "data": {
      "text/html": [
       "<div>\n",
       "<style scoped>\n",
       "    .dataframe tbody tr th:only-of-type {\n",
       "        vertical-align: middle;\n",
       "    }\n",
       "\n",
       "    .dataframe tbody tr th {\n",
       "        vertical-align: top;\n",
       "    }\n",
       "\n",
       "    .dataframe thead th {\n",
       "        text-align: right;\n",
       "    }\n",
       "</style>\n",
       "<table border=\"1\" class=\"dataframe\">\n",
       "  <thead>\n",
       "    <tr style=\"text-align: right;\">\n",
       "      <th></th>\n",
       "      <th>MSISDN/Number</th>\n",
       "      <th>Bearer_Id</th>\n",
       "      <th>Dur._(ms)</th>\n",
       "      <th>Social_Media_Bytes</th>\n",
       "      <th>Google_Bytes</th>\n",
       "      <th>Email_Bytes</th>\n",
       "      <th>Youtube_Bytes</th>\n",
       "      <th>Netflix_Bytes</th>\n",
       "      <th>Gaming_Bytes</th>\n",
       "      <th>Other_Bytes</th>\n",
       "      <th>Total_Bytes</th>\n",
       "    </tr>\n",
       "  </thead>\n",
       "  <tbody>\n",
       "    <tr>\n",
       "      <th>0</th>\n",
       "      <td>33664962239.000000</td>\n",
       "      <td>13114483460844900352.000000</td>\n",
       "      <td>1823652.000000</td>\n",
       "      <td>0.004788</td>\n",
       "      <td>0.008861</td>\n",
       "      <td>0.011286</td>\n",
       "      <td>0.055973</td>\n",
       "      <td>0.054446</td>\n",
       "      <td>0.891698</td>\n",
       "      <td>0.550579</td>\n",
       "      <td>345629377.000000</td>\n",
       "    </tr>\n",
       "    <tr>\n",
       "      <th>1</th>\n",
       "      <td>33681854413.000000</td>\n",
       "      <td>13114483482878900224.000000</td>\n",
       "      <td>1365104.000000</td>\n",
       "      <td>0.002398</td>\n",
       "      <td>0.005476</td>\n",
       "      <td>0.001163</td>\n",
       "      <td>0.048824</td>\n",
       "      <td>0.044118</td>\n",
       "      <td>0.756596</td>\n",
       "      <td>0.672291</td>\n",
       "      <td>707185356.000000</td>\n",
       "    </tr>\n",
       "    <tr>\n",
       "      <th>2</th>\n",
       "      <td>33760627129.000000</td>\n",
       "      <td>13114483484080500736.000000</td>\n",
       "      <td>1361762.000000</td>\n",
       "      <td>0.003660</td>\n",
       "      <td>0.021689</td>\n",
       "      <td>0.007131</td>\n",
       "      <td>0.072992</td>\n",
       "      <td>0.050360</td>\n",
       "      <td>0.487629</td>\n",
       "      <td>0.879734</td>\n",
       "      <td>307690973.000000</td>\n",
       "    </tr>\n",
       "    <tr>\n",
       "      <th>3</th>\n",
       "      <td>33750343200.000000</td>\n",
       "      <td>13114483485442799616.000000</td>\n",
       "      <td>1321509.000000</td>\n",
       "      <td>0.000600</td>\n",
       "      <td>0.010776</td>\n",
       "      <td>0.001889</td>\n",
       "      <td>0.033330</td>\n",
       "      <td>0.013769</td>\n",
       "      <td>0.739293</td>\n",
       "      <td>0.695002</td>\n",
       "      <td>889352748.000000</td>\n",
       "    </tr>\n",
       "    <tr>\n",
       "      <th>4</th>\n",
       "      <td>33699795932.000000</td>\n",
       "      <td>13114483499480700928.000000</td>\n",
       "      <td>1089009.000000</td>\n",
       "      <td>0.001196</td>\n",
       "      <td>0.010149</td>\n",
       "      <td>0.002764</td>\n",
       "      <td>0.044824</td>\n",
       "      <td>0.022974</td>\n",
       "      <td>0.695815</td>\n",
       "      <td>0.739540</td>\n",
       "      <td>607681403.000000</td>\n",
       "    </tr>\n",
       "  </tbody>\n",
       "</table>\n",
       "</div>"
      ],
      "text/plain": [
       "       MSISDN/Number                   Bearer_Id      Dur._(ms)  \\\n",
       "0 33664962239.000000 13114483460844900352.000000 1823652.000000   \n",
       "1 33681854413.000000 13114483482878900224.000000 1365104.000000   \n",
       "2 33760627129.000000 13114483484080500736.000000 1361762.000000   \n",
       "3 33750343200.000000 13114483485442799616.000000 1321509.000000   \n",
       "4 33699795932.000000 13114483499480700928.000000 1089009.000000   \n",
       "\n",
       "   Social_Media_Bytes  Google_Bytes  Email_Bytes  Youtube_Bytes  \\\n",
       "0            0.004788      0.008861     0.011286       0.055973   \n",
       "1            0.002398      0.005476     0.001163       0.048824   \n",
       "2            0.003660      0.021689     0.007131       0.072992   \n",
       "3            0.000600      0.010776     0.001889       0.033330   \n",
       "4            0.001196      0.010149     0.002764       0.044824   \n",
       "\n",
       "   Netflix_Bytes  Gaming_Bytes  Other_Bytes      Total_Bytes  \n",
       "0       0.054446      0.891698     0.550579 345629377.000000  \n",
       "1       0.044118      0.756596     0.672291 707185356.000000  \n",
       "2       0.050360      0.487629     0.879734 307690973.000000  \n",
       "3       0.013769      0.739293     0.695002 889352748.000000  \n",
       "4       0.022974      0.695815     0.739540 607681403.000000  "
      ]
     },
     "execution_count": 21,
     "metadata": {},
     "output_type": "execute_result"
    }
   ],
   "source": [
    "def sum_columns(df,col1,col2):\n",
    "    return df[col1]+df[col2]\n",
    "\n",
    "user = pd.DataFrame(data,columns=['MSISDN/Number','Bearer_Id','Dur._(ms)'])\n",
    "user['Social_Media_Bytes']=sum_columns(data,'Social_Media_DL_(Bytes)','Social_Media_UL_(Bytes)')\n",
    "user['Google_Bytes']=sum_columns(data,'Google_DL_(Bytes)','Google_UL_(Bytes)')\n",
    "user['Email_Bytes']=sum_columns(data,'Email_DL_(Bytes)','Email_UL_(Bytes)')\n",
    "user['Youtube_Bytes']=sum_columns(data,'Youtube_DL_(Bytes)','Youtube_UL_(Bytes)')\n",
    "user['Netflix_Bytes']=sum_columns(data,'Netflix_DL_(Bytes)','Netflix_UL_(Bytes)')\n",
    "user['Gaming_Bytes']=sum_columns(data,'Gaming_DL_(Bytes)','Gaming_UL_(Bytes)')\n",
    "user['Other_Bytes']=sum_columns(data,'Other_DL_(Bytes)','Other_UL_(Bytes)')\n",
    "user['Total_Bytes']=sum_columns(data,'Total_DL_(Bytes)','Total_UL_(Bytes)')\n",
    "\n",
    "user.head()                                      "
   ]
  },
  {
   "cell_type": "code",
   "execution_count": 22,
   "metadata": {},
   "outputs": [
    {
     "data": {
      "text/html": [
       "<div>\n",
       "<style scoped>\n",
       "    .dataframe tbody tr th:only-of-type {\n",
       "        vertical-align: middle;\n",
       "    }\n",
       "\n",
       "    .dataframe tbody tr th {\n",
       "        vertical-align: top;\n",
       "    }\n",
       "\n",
       "    .dataframe thead th {\n",
       "        text-align: right;\n",
       "    }\n",
       "</style>\n",
       "<table border=\"1\" class=\"dataframe\">\n",
       "  <thead>\n",
       "    <tr style=\"text-align: right;\">\n",
       "      <th></th>\n",
       "      <th>MSISDN/Number</th>\n",
       "      <th>No_of_xDRsessions</th>\n",
       "      <th>Session_duration_ms</th>\n",
       "      <th>Total_Bytes</th>\n",
       "      <th>Social_Media_Bytes</th>\n",
       "      <th>Google_Bytes</th>\n",
       "      <th>Email_Bytes</th>\n",
       "      <th>Youtube_Bytes</th>\n",
       "      <th>Netflix_Bytes</th>\n",
       "      <th>Gaming_Bytes</th>\n",
       "      <th>Other_Bytes</th>\n",
       "    </tr>\n",
       "  </thead>\n",
       "  <tbody>\n",
       "    <tr>\n",
       "      <th>83154</th>\n",
       "      <td>33695134080.000000</td>\n",
       "      <td>1</td>\n",
       "      <td>88902.000000</td>\n",
       "      <td>478288532.000000</td>\n",
       "      <td>0.001472</td>\n",
       "      <td>0.005193</td>\n",
       "      <td>0.004894</td>\n",
       "      <td>0.044207</td>\n",
       "      <td>0.053291</td>\n",
       "      <td>0.623115</td>\n",
       "      <td>0.807091</td>\n",
       "    </tr>\n",
       "  </tbody>\n",
       "</table>\n",
       "</div>"
      ],
      "text/plain": [
       "           MSISDN/Number  No_of_xDRsessions  Session_duration_ms  \\\n",
       "83154 33695134080.000000                  1         88902.000000   \n",
       "\n",
       "           Total_Bytes  Social_Media_Bytes  Google_Bytes  Email_Bytes  \\\n",
       "83154 478288532.000000            0.001472      0.005193     0.004894   \n",
       "\n",
       "       Youtube_Bytes  Netflix_Bytes  Gaming_Bytes  Other_Bytes  \n",
       "83154       0.044207       0.053291      0.623115     0.807091  "
      ]
     },
     "execution_count": 22,
     "metadata": {},
     "output_type": "execute_result"
    }
   ],
   "source": [
    "user=user.groupby('MSISDN/Number').agg({'Bearer_Id':'count', 'Dur._(ms)':'sum', 'Total_Bytes':'sum','Social_Media_Bytes':'sum', 'Google_Bytes':'sum', 'Email_Bytes':'sum',\n",
    "       'Youtube_Bytes':'sum', 'Netflix_Bytes':'sum', 'Gaming_Bytes':'sum', 'Other_Bytes':'sum'}).reset_index()\n",
    "\n",
    "user.rename(columns={'Bearer_Id':'No_of_xDRsessions','Dur._(ms)':'Session_duration_ms'},inplace=True)\n",
    "user.sample()"
   ]
  },
  {
   "cell_type": "code",
   "execution_count": 40,
   "metadata": {},
   "outputs": [
    {
     "data": {
      "text/html": [
       "<div>\n",
       "<style scoped>\n",
       "    .dataframe tbody tr th:only-of-type {\n",
       "        vertical-align: middle;\n",
       "    }\n",
       "\n",
       "    .dataframe tbody tr th {\n",
       "        vertical-align: top;\n",
       "    }\n",
       "\n",
       "    .dataframe thead th {\n",
       "        text-align: right;\n",
       "    }\n",
       "</style>\n",
       "<table border=\"1\" class=\"dataframe\">\n",
       "  <thead>\n",
       "    <tr style=\"text-align: right;\">\n",
       "      <th></th>\n",
       "      <th>MSISDN/Number</th>\n",
       "      <th>No_of_xDRsessions</th>\n",
       "      <th>Session_duration_ms</th>\n",
       "      <th>Total_Bytes</th>\n",
       "      <th>Social_Media_Bytes</th>\n",
       "      <th>Google_Bytes</th>\n",
       "      <th>Email_Bytes</th>\n",
       "      <th>Youtube_Bytes</th>\n",
       "      <th>Netflix_Bytes</th>\n",
       "      <th>Gaming_Bytes</th>\n",
       "      <th>Other_Bytes</th>\n",
       "      <th>DecileRank</th>\n",
       "    </tr>\n",
       "  </thead>\n",
       "  <tbody>\n",
       "    <tr>\n",
       "      <th>0</th>\n",
       "      <td>33601001722.000000</td>\n",
       "      <td>1.000000</td>\n",
       "      <td>116720.000000</td>\n",
       "      <td>878690574.000000</td>\n",
       "      <td>0.002494</td>\n",
       "      <td>0.004904</td>\n",
       "      <td>0.001488</td>\n",
       "      <td>0.024164</td>\n",
       "      <td>0.030373</td>\n",
       "      <td>0.907880</td>\n",
       "      <td>0.431973</td>\n",
       "      <td>2</td>\n",
       "    </tr>\n",
       "    <tr>\n",
       "      <th>1</th>\n",
       "      <td>33601001754.000000</td>\n",
       "      <td>1.000000</td>\n",
       "      <td>181230.000000</td>\n",
       "      <td>156859643.000000</td>\n",
       "      <td>0.008887</td>\n",
       "      <td>0.017820</td>\n",
       "      <td>0.011049</td>\n",
       "      <td>0.041526</td>\n",
       "      <td>0.037483</td>\n",
       "      <td>0.399993</td>\n",
       "      <td>0.940977</td>\n",
       "      <td>4</td>\n",
       "    </tr>\n",
       "    <tr>\n",
       "      <th>2</th>\n",
       "      <td>33601002511.000000</td>\n",
       "      <td>1.000000</td>\n",
       "      <td>134969.000000</td>\n",
       "      <td>595966483.000000</td>\n",
       "      <td>0.004407</td>\n",
       "      <td>0.004748</td>\n",
       "      <td>0.004420</td>\n",
       "      <td>0.029419</td>\n",
       "      <td>0.026689</td>\n",
       "      <td>0.743055</td>\n",
       "      <td>0.691847</td>\n",
       "      <td>3</td>\n",
       "    </tr>\n",
       "    <tr>\n",
       "      <th>3</th>\n",
       "      <td>33601007832.000000</td>\n",
       "      <td>1.000000</td>\n",
       "      <td>49878.000000</td>\n",
       "      <td>422320698.000000</td>\n",
       "      <td>0.000720</td>\n",
       "      <td>0.024871</td>\n",
       "      <td>0.005871</td>\n",
       "      <td>0.017930</td>\n",
       "      <td>0.004991</td>\n",
       "      <td>1.005099</td>\n",
       "      <td>0.090660</td>\n",
       "      <td>0</td>\n",
       "    </tr>\n",
       "    <tr>\n",
       "      <th>4</th>\n",
       "      <td>33601008617.000000</td>\n",
       "      <td>2.000000</td>\n",
       "      <td>37104.000000</td>\n",
       "      <td>1457410944.000000</td>\n",
       "      <td>0.003492</td>\n",
       "      <td>0.022224</td>\n",
       "      <td>0.003932</td>\n",
       "      <td>0.049671</td>\n",
       "      <td>0.058622</td>\n",
       "      <td>1.587153</td>\n",
       "      <td>0.932739</td>\n",
       "      <td>0</td>\n",
       "    </tr>\n",
       "  </tbody>\n",
       "</table>\n",
       "</div>"
      ],
      "text/plain": [
       "       MSISDN/Number  No_of_xDRsessions  Session_duration_ms  \\\n",
       "0 33601001722.000000           1.000000        116720.000000   \n",
       "1 33601001754.000000           1.000000        181230.000000   \n",
       "2 33601002511.000000           1.000000        134969.000000   \n",
       "3 33601007832.000000           1.000000         49878.000000   \n",
       "4 33601008617.000000           2.000000         37104.000000   \n",
       "\n",
       "        Total_Bytes  Social_Media_Bytes  Google_Bytes  Email_Bytes  \\\n",
       "0  878690574.000000            0.002494      0.004904     0.001488   \n",
       "1  156859643.000000            0.008887      0.017820     0.011049   \n",
       "2  595966483.000000            0.004407      0.004748     0.004420   \n",
       "3  422320698.000000            0.000720      0.024871     0.005871   \n",
       "4 1457410944.000000            0.003492      0.022224     0.003932   \n",
       "\n",
       "   Youtube_Bytes  Netflix_Bytes  Gaming_Bytes  Other_Bytes  DecileRank  \n",
       "0       0.024164       0.030373      0.907880     0.431973           2  \n",
       "1       0.041526       0.037483      0.399993     0.940977           4  \n",
       "2       0.029419       0.026689      0.743055     0.691847           3  \n",
       "3       0.017930       0.004991      1.005099     0.090660           0  \n",
       "4       0.049671       0.058622      1.587153     0.932739           0  "
      ]
     },
     "execution_count": 40,
     "metadata": {},
     "output_type": "execute_result"
    }
   ],
   "source": [
    "user.head()"
   ]
  },
  {
   "cell_type": "markdown",
   "metadata": {},
   "source": [
    "<h3>Exploratory Data Analysis</h3>"
   ]
  },
  {
   "cell_type": "markdown",
   "metadata": {},
   "source": [
    "**Univariate Analysis**"
   ]
  },
  {
   "cell_type": "code",
   "execution_count": 23,
   "metadata": {},
   "outputs": [],
   "source": [
    "def plot_univariate(df,col1,col2):\n",
    "    plt.figure(figsize=(12,8))\n",
    "    \n",
    "    plt.subplot(2,2,1)\n",
    "    plt.hist(df[col1],bins=20,color='#AEC6CF',edgecolor='blue',linewidth=0.5)\n",
    "    plt.title(f'Histogram of {col1}', size=14)\n",
    "    \n",
    "    plt.subplot(2,2,2)\n",
    "    plt.boxplot(df[col1])\n",
    "    plt.title(f'Boxplot of {col1}', size=14)\n",
    "    \n",
    "    plt.subplot(2,2,3)\n",
    "    plt.hist(df[col2],bins=20,color='#b39eb5',edgecolor='purple',linewidth=0.5)\n",
    "    plt.title(f'Histogram of {col2}', size=14)\n",
    "    \n",
    "    plt.subplot(2,2,4)\n",
    "    plt.boxplot(df[col2])\n",
    "    plt.title(f'Boxplot of {col2}', size=14)\n",
    "    \n",
    "    plt.show()"
   ]
  },
  {
   "cell_type": "code",
   "execution_count": 24,
   "metadata": {},
   "outputs": [
    {
     "data": {
      "text/html": [
       "<div>\n",
       "<style scoped>\n",
       "    .dataframe tbody tr th:only-of-type {\n",
       "        vertical-align: middle;\n",
       "    }\n",
       "\n",
       "    .dataframe tbody tr th {\n",
       "        vertical-align: top;\n",
       "    }\n",
       "\n",
       "    .dataframe thead th {\n",
       "        text-align: right;\n",
       "    }\n",
       "</style>\n",
       "<table border=\"1\" class=\"dataframe\">\n",
       "  <thead>\n",
       "    <tr style=\"text-align: right;\">\n",
       "      <th></th>\n",
       "      <th>MSISDN/Number</th>\n",
       "      <th>No_of_xDRsessions</th>\n",
       "      <th>Session_duration_ms</th>\n",
       "      <th>Total_Bytes</th>\n",
       "      <th>Social_Media_Bytes</th>\n",
       "      <th>Google_Bytes</th>\n",
       "      <th>Email_Bytes</th>\n",
       "      <th>Youtube_Bytes</th>\n",
       "      <th>Netflix_Bytes</th>\n",
       "      <th>Gaming_Bytes</th>\n",
       "      <th>Other_Bytes</th>\n",
       "    </tr>\n",
       "  </thead>\n",
       "  <tbody>\n",
       "    <tr>\n",
       "      <th>count</th>\n",
       "      <td>106471.000000</td>\n",
       "      <td>106471.000000</td>\n",
       "      <td>106471.000000</td>\n",
       "      <td>106471.000000</td>\n",
       "      <td>106471.000000</td>\n",
       "      <td>106471.000000</td>\n",
       "      <td>106471.000000</td>\n",
       "      <td>106471.000000</td>\n",
       "      <td>106471.000000</td>\n",
       "      <td>106471.000000</td>\n",
       "      <td>106471.000000</td>\n",
       "    </tr>\n",
       "    <tr>\n",
       "      <th>mean</th>\n",
       "      <td>45156114904.179916</td>\n",
       "      <td>1.399536</td>\n",
       "      <td>146903.963220</td>\n",
       "      <td>693905971.727776</td>\n",
       "      <td>0.005168</td>\n",
       "      <td>0.022172</td>\n",
       "      <td>0.006410</td>\n",
       "      <td>0.064129</td>\n",
       "      <td>0.064245</td>\n",
       "      <td>0.927146</td>\n",
       "      <td>0.925965</td>\n",
       "    </tr>\n",
       "    <tr>\n",
       "      <th>std</th>\n",
       "      <td>2894642775527.384277</td>\n",
       "      <td>1.744347</td>\n",
       "      <td>215688.108560</td>\n",
       "      <td>920876996.871336</td>\n",
       "      <td>0.008153</td>\n",
       "      <td>0.033880</td>\n",
       "      <td>0.009858</td>\n",
       "      <td>0.096367</td>\n",
       "      <td>0.097270</td>\n",
       "      <td>1.214692</td>\n",
       "      <td>1.188861</td>\n",
       "    </tr>\n",
       "    <tr>\n",
       "      <th>min</th>\n",
       "      <td>33601001722.000000</td>\n",
       "      <td>1.000000</td>\n",
       "      <td>7142.000000</td>\n",
       "      <td>33249009.000000</td>\n",
       "      <td>0.000003</td>\n",
       "      <td>0.000078</td>\n",
       "      <td>0.000031</td>\n",
       "      <td>0.000091</td>\n",
       "      <td>0.000246</td>\n",
       "      <td>0.000433</td>\n",
       "      <td>0.000219</td>\n",
       "    </tr>\n",
       "    <tr>\n",
       "      <th>25%</th>\n",
       "      <td>33650879803.500000</td>\n",
       "      <td>1.000000</td>\n",
       "      <td>72404.000000</td>\n",
       "      <td>358765225.000000</td>\n",
       "      <td>0.001881</td>\n",
       "      <td>0.009039</td>\n",
       "      <td>0.002565</td>\n",
       "      <td>0.027243</td>\n",
       "      <td>0.027091</td>\n",
       "      <td>0.570098</td>\n",
       "      <td>0.565802</td>\n",
       "    </tr>\n",
       "    <tr>\n",
       "      <th>50%</th>\n",
       "      <td>33663653890.000000</td>\n",
       "      <td>1.000000</td>\n",
       "      <td>103138.000000</td>\n",
       "      <td>618326893.000000</td>\n",
       "      <td>0.003580</td>\n",
       "      <td>0.015054</td>\n",
       "      <td>0.004373</td>\n",
       "      <td>0.043364</td>\n",
       "      <td>0.043335</td>\n",
       "      <td>0.835045</td>\n",
       "      <td>0.831406</td>\n",
       "    </tr>\n",
       "    <tr>\n",
       "      <th>75%</th>\n",
       "      <td>33683450105.500000</td>\n",
       "      <td>2.000000</td>\n",
       "      <td>172799.000000</td>\n",
       "      <td>857884040.000000</td>\n",
       "      <td>0.006195</td>\n",
       "      <td>0.026106</td>\n",
       "      <td>0.007547</td>\n",
       "      <td>0.075239</td>\n",
       "      <td>0.075305</td>\n",
       "      <td>1.013400</td>\n",
       "      <td>1.013488</td>\n",
       "    </tr>\n",
       "    <tr>\n",
       "      <th>max</th>\n",
       "      <td>882397108489451.000000</td>\n",
       "      <td>506.000000</td>\n",
       "      <td>35465008.000000</td>\n",
       "      <td>254789373106.000000</td>\n",
       "      <td>1.799668</td>\n",
       "      <td>7.597157</td>\n",
       "      <td>2.199916</td>\n",
       "      <td>22.101361</td>\n",
       "      <td>22.441792</td>\n",
       "      <td>339.956879</td>\n",
       "      <td>329.734216</td>\n",
       "    </tr>\n",
       "  </tbody>\n",
       "</table>\n",
       "</div>"
      ],
      "text/plain": [
       "               MSISDN/Number  No_of_xDRsessions  Session_duration_ms  \\\n",
       "count          106471.000000      106471.000000        106471.000000   \n",
       "mean      45156114904.179916           1.399536        146903.963220   \n",
       "std     2894642775527.384277           1.744347        215688.108560   \n",
       "min       33601001722.000000           1.000000          7142.000000   \n",
       "25%       33650879803.500000           1.000000         72404.000000   \n",
       "50%       33663653890.000000           1.000000        103138.000000   \n",
       "75%       33683450105.500000           2.000000        172799.000000   \n",
       "max   882397108489451.000000         506.000000      35465008.000000   \n",
       "\n",
       "              Total_Bytes  Social_Media_Bytes  Google_Bytes   Email_Bytes  \\\n",
       "count       106471.000000       106471.000000 106471.000000 106471.000000   \n",
       "mean     693905971.727776            0.005168      0.022172      0.006410   \n",
       "std      920876996.871336            0.008153      0.033880      0.009858   \n",
       "min       33249009.000000            0.000003      0.000078      0.000031   \n",
       "25%      358765225.000000            0.001881      0.009039      0.002565   \n",
       "50%      618326893.000000            0.003580      0.015054      0.004373   \n",
       "75%      857884040.000000            0.006195      0.026106      0.007547   \n",
       "max   254789373106.000000            1.799668      7.597157      2.199916   \n",
       "\n",
       "       Youtube_Bytes  Netflix_Bytes  Gaming_Bytes   Other_Bytes  \n",
       "count  106471.000000  106471.000000 106471.000000 106471.000000  \n",
       "mean        0.064129       0.064245      0.927146      0.925965  \n",
       "std         0.096367       0.097270      1.214692      1.188861  \n",
       "min         0.000091       0.000246      0.000433      0.000219  \n",
       "25%         0.027243       0.027091      0.570098      0.565802  \n",
       "50%         0.043364       0.043335      0.835045      0.831406  \n",
       "75%         0.075239       0.075305      1.013400      1.013488  \n",
       "max        22.101361      22.441792    339.956879    329.734216  "
      ]
     },
     "execution_count": 24,
     "metadata": {},
     "output_type": "execute_result"
    }
   ],
   "source": [
    "user.describe()"
   ]
  },
  {
   "cell_type": "code",
   "execution_count": 25,
   "metadata": {
    "scrolled": true
   },
   "outputs": [
    {
     "data": {
      "text/html": [
       "<div>\n",
       "<style scoped>\n",
       "    .dataframe tbody tr th:only-of-type {\n",
       "        vertical-align: middle;\n",
       "    }\n",
       "\n",
       "    .dataframe tbody tr th {\n",
       "        vertical-align: top;\n",
       "    }\n",
       "\n",
       "    .dataframe thead th {\n",
       "        text-align: right;\n",
       "    }\n",
       "</style>\n",
       "<table border=\"1\" class=\"dataframe\">\n",
       "  <thead>\n",
       "    <tr style=\"text-align: right;\">\n",
       "      <th></th>\n",
       "      <th>Youtube_Bytes</th>\n",
       "      <th>Netflix_Bytes</th>\n",
       "      <th>Gaming_Bytes</th>\n",
       "      <th>Other_Bytes</th>\n",
       "    </tr>\n",
       "  </thead>\n",
       "  <tbody>\n",
       "    <tr>\n",
       "      <th>count</th>\n",
       "      <td>106471.000000</td>\n",
       "      <td>106471.000000</td>\n",
       "      <td>106471.000000</td>\n",
       "      <td>106471.000000</td>\n",
       "    </tr>\n",
       "    <tr>\n",
       "      <th>mean</th>\n",
       "      <td>0.064129</td>\n",
       "      <td>0.064245</td>\n",
       "      <td>0.927146</td>\n",
       "      <td>0.925965</td>\n",
       "    </tr>\n",
       "    <tr>\n",
       "      <th>std</th>\n",
       "      <td>0.096367</td>\n",
       "      <td>0.097270</td>\n",
       "      <td>1.214692</td>\n",
       "      <td>1.188861</td>\n",
       "    </tr>\n",
       "    <tr>\n",
       "      <th>min</th>\n",
       "      <td>0.000091</td>\n",
       "      <td>0.000246</td>\n",
       "      <td>0.000433</td>\n",
       "      <td>0.000219</td>\n",
       "    </tr>\n",
       "    <tr>\n",
       "      <th>25%</th>\n",
       "      <td>0.027243</td>\n",
       "      <td>0.027091</td>\n",
       "      <td>0.570098</td>\n",
       "      <td>0.565802</td>\n",
       "    </tr>\n",
       "    <tr>\n",
       "      <th>50%</th>\n",
       "      <td>0.043364</td>\n",
       "      <td>0.043335</td>\n",
       "      <td>0.835045</td>\n",
       "      <td>0.831406</td>\n",
       "    </tr>\n",
       "    <tr>\n",
       "      <th>75%</th>\n",
       "      <td>0.075239</td>\n",
       "      <td>0.075305</td>\n",
       "      <td>1.013400</td>\n",
       "      <td>1.013488</td>\n",
       "    </tr>\n",
       "    <tr>\n",
       "      <th>max</th>\n",
       "      <td>22.101361</td>\n",
       "      <td>22.441792</td>\n",
       "      <td>339.956879</td>\n",
       "      <td>329.734216</td>\n",
       "    </tr>\n",
       "  </tbody>\n",
       "</table>\n",
       "</div>"
      ],
      "text/plain": [
       "       Youtube_Bytes  Netflix_Bytes  Gaming_Bytes   Other_Bytes\n",
       "count  106471.000000  106471.000000 106471.000000 106471.000000\n",
       "mean        0.064129       0.064245      0.927146      0.925965\n",
       "std         0.096367       0.097270      1.214692      1.188861\n",
       "min         0.000091       0.000246      0.000433      0.000219\n",
       "25%         0.027243       0.027091      0.570098      0.565802\n",
       "50%         0.043364       0.043335      0.835045      0.831406\n",
       "75%         0.075239       0.075305      1.013400      1.013488\n",
       "max        22.101361      22.441792    339.956879    329.734216"
      ]
     },
     "execution_count": 25,
     "metadata": {},
     "output_type": "execute_result"
    }
   ],
   "source": [
    "user[['Youtube_Bytes', 'Netflix_Bytes', 'Gaming_Bytes', 'Other_Bytes']].describe()"
   ]
  },
  {
   "cell_type": "markdown",
   "metadata": {},
   "source": [
    "**From the max values of each column, it is evident that the data has outliers, which will affect our analysis, hence\n",
    "  we have to find a way to deal with them**"
   ]
  },
  {
   "cell_type": "code",
   "execution_count": 26,
   "metadata": {},
   "outputs": [
    {
     "data": {
      "image/png": "[encoded data removed]",
      "text/plain": [
       "<Figure size 864x576 with 4 Axes>"
      ]
     },
     "metadata": {
      "needs_background": "light"
     },
     "output_type": "display_data"
    }
   ],
   "source": [
    "#plot before removing outliers\n",
    "plot_univariate(user,'Session_duration_ms','Total_Bytes')"
   ]
  },
  {
   "cell_type": "code",
   "execution_count": 27,
   "metadata": {},
   "outputs": [
    {
     "data": {
      "image/png": "[encoded data removed]",
      "text/plain": [
       "<Figure size 864x576 with 4 Axes>"
      ]
     },
     "metadata": {
      "needs_background": "light"
     },
     "output_type": "display_data"
    }
   ],
   "source": [
    "plot_univariate(user,'Youtube_Bytes', 'Netflix_Bytes')"
   ]
  },
  {
   "cell_type": "code",
   "execution_count": 28,
   "metadata": {},
   "outputs": [],
   "source": [
    "#removing the outliers\n",
    "column_names=user.columns.to_list()\n",
    "for i in column_names:\n",
    "    user[i]=np.where(user[i] > user[i].quantile(0.95), user[i].median(),user[i])"
   ]
  },
  {
   "cell_type": "code",
   "execution_count": 29,
   "metadata": {},
   "outputs": [
    {
     "data": {
      "text/html": [
       "<div>\n",
       "<style scoped>\n",
       "    .dataframe tbody tr th:only-of-type {\n",
       "        vertical-align: middle;\n",
       "    }\n",
       "\n",
       "    .dataframe tbody tr th {\n",
       "        vertical-align: top;\n",
       "    }\n",
       "\n",
       "    .dataframe thead th {\n",
       "        text-align: right;\n",
       "    }\n",
       "</style>\n",
       "<table border=\"1\" class=\"dataframe\">\n",
       "  <thead>\n",
       "    <tr style=\"text-align: right;\">\n",
       "      <th></th>\n",
       "      <th>MSISDN/Number</th>\n",
       "      <th>No_of_xDRsessions</th>\n",
       "      <th>Session_duration_ms</th>\n",
       "      <th>Total_Bytes</th>\n",
       "      <th>Social_Media_Bytes</th>\n",
       "      <th>Google_Bytes</th>\n",
       "      <th>Email_Bytes</th>\n",
       "      <th>Youtube_Bytes</th>\n",
       "      <th>Netflix_Bytes</th>\n",
       "      <th>Gaming_Bytes</th>\n",
       "      <th>Other_Bytes</th>\n",
       "    </tr>\n",
       "  </thead>\n",
       "  <tbody>\n",
       "    <tr>\n",
       "      <th>count</th>\n",
       "      <td>106471.000000</td>\n",
       "      <td>106471.000000</td>\n",
       "      <td>106471.000000</td>\n",
       "      <td>106471.000000</td>\n",
       "      <td>106471.000000</td>\n",
       "      <td>106471.000000</td>\n",
       "      <td>106471.000000</td>\n",
       "      <td>106471.000000</td>\n",
       "      <td>106471.000000</td>\n",
       "      <td>106471.000000</td>\n",
       "      <td>106471.000000</td>\n",
       "    </tr>\n",
       "    <tr>\n",
       "      <th>mean</th>\n",
       "      <td>33668400758.634098</td>\n",
       "      <td>1.284152</td>\n",
       "      <td>120038.393450</td>\n",
       "      <td>614727634.711076</td>\n",
       "      <td>0.004108</td>\n",
       "      <td>0.017751</td>\n",
       "      <td>0.005127</td>\n",
       "      <td>0.051681</td>\n",
       "      <td>0.051717</td>\n",
       "      <td>0.824776</td>\n",
       "      <td>0.823032</td>\n",
       "    </tr>\n",
       "    <tr>\n",
       "      <th>std</th>\n",
       "      <td>38334369.608407</td>\n",
       "      <td>0.535166</td>\n",
       "      <td>76961.036270</td>\n",
       "      <td>332115321.020702</td>\n",
       "      <td>0.003079</td>\n",
       "      <td>0.012378</td>\n",
       "      <td>0.003630</td>\n",
       "      <td>0.035206</td>\n",
       "      <td>0.035485</td>\n",
       "      <td>0.416715</td>\n",
       "      <td>0.417994</td>\n",
       "    </tr>\n",
       "    <tr>\n",
       "      <th>min</th>\n",
       "      <td>33601001722.000000</td>\n",
       "      <td>1.000000</td>\n",
       "      <td>7142.000000</td>\n",
       "      <td>33249009.000000</td>\n",
       "      <td>0.000003</td>\n",
       "      <td>0.000078</td>\n",
       "      <td>0.000031</td>\n",
       "      <td>0.000091</td>\n",
       "      <td>0.000246</td>\n",
       "      <td>0.000433</td>\n",
       "      <td>0.000219</td>\n",
       "    </tr>\n",
       "    <tr>\n",
       "      <th>25%</th>\n",
       "      <td>33650879803.500000</td>\n",
       "      <td>1.000000</td>\n",
       "      <td>72404.000000</td>\n",
       "      <td>358765225.000000</td>\n",
       "      <td>0.001881</td>\n",
       "      <td>0.009039</td>\n",
       "      <td>0.002565</td>\n",
       "      <td>0.027243</td>\n",
       "      <td>0.027091</td>\n",
       "      <td>0.570098</td>\n",
       "      <td>0.565802</td>\n",
       "    </tr>\n",
       "    <tr>\n",
       "      <th>50%</th>\n",
       "      <td>33663653890.000000</td>\n",
       "      <td>1.000000</td>\n",
       "      <td>103138.000000</td>\n",
       "      <td>618326893.000000</td>\n",
       "      <td>0.003580</td>\n",
       "      <td>0.015054</td>\n",
       "      <td>0.004373</td>\n",
       "      <td>0.043364</td>\n",
       "      <td>0.043335</td>\n",
       "      <td>0.835045</td>\n",
       "      <td>0.831406</td>\n",
       "    </tr>\n",
       "    <tr>\n",
       "      <th>75%</th>\n",
       "      <td>33672900561.000000</td>\n",
       "      <td>1.000000</td>\n",
       "      <td>163950.000000</td>\n",
       "      <td>810648233.000000</td>\n",
       "      <td>0.005409</td>\n",
       "      <td>0.022853</td>\n",
       "      <td>0.006623</td>\n",
       "      <td>0.066075</td>\n",
       "      <td>0.066073</td>\n",
       "      <td>0.994372</td>\n",
       "      <td>0.994746</td>\n",
       "    </tr>\n",
       "    <tr>\n",
       "      <th>max</th>\n",
       "      <td>33768432484.000000</td>\n",
       "      <td>3.000000</td>\n",
       "      <td>370225.000000</td>\n",
       "      <td>1601945430.000000</td>\n",
       "      <td>0.015010</td>\n",
       "      <td>0.062736</td>\n",
       "      <td>0.018359</td>\n",
       "      <td>0.180617</td>\n",
       "      <td>0.181901</td>\n",
       "      <td>2.010853</td>\n",
       "      <td>2.015691</td>\n",
       "    </tr>\n",
       "  </tbody>\n",
       "</table>\n",
       "</div>"
      ],
      "text/plain": [
       "           MSISDN/Number  No_of_xDRsessions  Session_duration_ms  \\\n",
       "count      106471.000000      106471.000000        106471.000000   \n",
       "mean  33668400758.634098           1.284152        120038.393450   \n",
       "std      38334369.608407           0.535166         76961.036270   \n",
       "min   33601001722.000000           1.000000          7142.000000   \n",
       "25%   33650879803.500000           1.000000         72404.000000   \n",
       "50%   33663653890.000000           1.000000        103138.000000   \n",
       "75%   33672900561.000000           1.000000        163950.000000   \n",
       "max   33768432484.000000           3.000000        370225.000000   \n",
       "\n",
       "            Total_Bytes  Social_Media_Bytes  Google_Bytes   Email_Bytes  \\\n",
       "count     106471.000000       106471.000000 106471.000000 106471.000000   \n",
       "mean   614727634.711076            0.004108      0.017751      0.005127   \n",
       "std    332115321.020702            0.003079      0.012378      0.003630   \n",
       "min     33249009.000000            0.000003      0.000078      0.000031   \n",
       "25%    358765225.000000            0.001881      0.009039      0.002565   \n",
       "50%    618326893.000000            0.003580      0.015054      0.004373   \n",
       "75%    810648233.000000            0.005409      0.022853      0.006623   \n",
       "max   1601945430.000000            0.015010      0.062736      0.018359   \n",
       "\n",
       "       Youtube_Bytes  Netflix_Bytes  Gaming_Bytes   Other_Bytes  \n",
       "count  106471.000000  106471.000000 106471.000000 106471.000000  \n",
       "mean        0.051681       0.051717      0.824776      0.823032  \n",
       "std         0.035206       0.035485      0.416715      0.417994  \n",
       "min         0.000091       0.000246      0.000433      0.000219  \n",
       "25%         0.027243       0.027091      0.570098      0.565802  \n",
       "50%         0.043364       0.043335      0.835045      0.831406  \n",
       "75%         0.066075       0.066073      0.994372      0.994746  \n",
       "max         0.180617       0.181901      2.010853      2.015691  "
      ]
     },
     "execution_count": 29,
     "metadata": {},
     "output_type": "execute_result"
    }
   ],
   "source": [
    "user.describe()"
   ]
  },
  {
   "cell_type": "code",
   "execution_count": 30,
   "metadata": {},
   "outputs": [
    {
     "data": {
      "text/plain": [
       "Index(['MSISDN/Number', 'No_of_xDRsessions', 'Session_duration_ms',\n",
       "       'Total_Bytes', 'Social_Media_Bytes', 'Google_Bytes', 'Email_Bytes',\n",
       "       'Youtube_Bytes', 'Netflix_Bytes', 'Gaming_Bytes', 'Other_Bytes'],\n",
       "      dtype='object')"
      ]
     },
     "execution_count": 30,
     "metadata": {},
     "output_type": "execute_result"
    }
   ],
   "source": [
    "user.columns"
   ]
  },
  {
   "cell_type": "code",
   "execution_count": 31,
   "metadata": {},
   "outputs": [
    {
     "data": {
      "image/png": "[encoded data removed]",
      "text/plain": [
       "<Figure size 864x576 with 4 Axes>"
      ]
     },
     "metadata": {
      "needs_background": "light"
     },
     "output_type": "display_data"
    }
   ],
   "source": [
    "plot_univariate(user,'Session_duration_ms','Total_Bytes')"
   ]
  },
  {
   "cell_type": "code",
   "execution_count": 32,
   "metadata": {},
   "outputs": [
    {
     "data": {
      "image/png": "[encoded data removed]",
      "text/plain": [
       "<Figure size 864x576 with 4 Axes>"
      ]
     },
     "metadata": {
      "needs_background": "light"
     },
     "output_type": "display_data"
    }
   ],
   "source": [
    "plot_univariate(user,'Social_Media_Bytes','Email_Bytes',)"
   ]
  },
  {
   "cell_type": "code",
   "execution_count": 33,
   "metadata": {},
   "outputs": [
    {
     "data": {
      "image/png": "[encoded data removed]",
      "text/plain": [
       "<Figure size 864x576 with 4 Axes>"
      ]
     },
     "metadata": {
      "needs_background": "light"
     },
     "output_type": "display_data"
    }
   ],
   "source": [
    "plot_univariate(user,'Google_Bytes','Other_Bytes',)"
   ]
  },
  {
   "cell_type": "markdown",
   "metadata": {},
   "source": [
    "**Bivariate Analysis**"
   ]
  },
  {
   "cell_type": "code",
   "execution_count": 34,
   "metadata": {},
   "outputs": [],
   "source": [
    "def plot_bivariate(df,col1,col2,col3,col4):\n",
    "    fig,ax = plt.subplots(2,2,figsize=(12,8),sharey=True)\n",
    "    \n",
    "    ax1=plt.subplot(221)\n",
    "    ax1.scatter(df[col1],df['Total_Bytes'],c='green',edgecolor='yellow',linewidth=1,alpha=0.8)\n",
    "    ax1.title.set_text(f'Scatter plot of {col1} against Total_Bytes')\n",
    "    \n",
    "    ax2=plt.subplot(222)\n",
    "    ax2.scatter(df[col2],df['Total_Bytes'],c='yellow',edgecolor='green',linewidth=1,alpha=0.8)\n",
    "    ax2.title.set_text(f'Scatter plot of {col2} against Total_Bytes')\n",
    "    \n",
    "    ax3=plt.subplot(223)\n",
    "    ax3.scatter(df[col3],df['Total_Bytes'],c='yellow',edgecolor='green',linewidth=1,alpha=0.8)\n",
    "    ax3.title.set_text(f'Scatter plot of {col3} against Total_Bytes')\n",
    "    \n",
    "    ax4=plt.subplot(224)\n",
    "    ax4.scatter(df[col4],df['Total_Bytes'],c='yellow',edgecolor='green',linewidth=1,alpha=0.8)\n",
    "    ax4.title.set_text(f'Scatter plot of {col4} against Total_Bytes')\n",
    "    plt.show()"
   ]
  },
  {
   "cell_type": "code",
   "execution_count": 35,
   "metadata": {},
   "outputs": [
    {
     "data": {
      "image/png": "[encoded data removed]",
      "text/plain": [
       "<Figure size 864x576 with 4 Axes>"
      ]
     },
     "metadata": {
      "needs_background": "light"
     },
     "output_type": "display_data"
    }
   ],
   "source": [
    "plot_bivariate(user.head(100),'Social_Media_Bytes','Google_Bytes','Email_Bytes', 'Youtube_Bytes')"
   ]
  },
  {
   "cell_type": "code",
   "execution_count": 36,
   "metadata": {},
   "outputs": [
    {
     "data": {
      "image/png": "[encoded data removed]",
      "text/plain": [
       "<Figure size 864x576 with 4 Axes>"
      ]
     },
     "metadata": {
      "needs_background": "light"
     },
     "output_type": "display_data"
    }
   ],
   "source": [
    "plot_bivariate(user.head(100),'Youtube_Bytes', 'Netflix_Bytes','Gaming_Bytes', 'Other_Bytes')"
   ]
  },
  {
   "cell_type": "markdown",
   "metadata": {},
   "source": [
    "**Variable transformations**"
   ]
  },
  {
   "cell_type": "code",
   "execution_count": 37,
   "metadata": {},
   "outputs": [
    {
     "data": {
      "text/html": [
       "<div>\n",
       "<style scoped>\n",
       "    .dataframe tbody tr th:only-of-type {\n",
       "        vertical-align: middle;\n",
       "    }\n",
       "\n",
       "    .dataframe tbody tr th {\n",
       "        vertical-align: top;\n",
       "    }\n",
       "\n",
       "    .dataframe thead th {\n",
       "        text-align: right;\n",
       "    }\n",
       "</style>\n",
       "<table border=\"1\" class=\"dataframe\">\n",
       "  <thead>\n",
       "    <tr style=\"text-align: right;\">\n",
       "      <th></th>\n",
       "      <th>MSISDN/Number</th>\n",
       "      <th>No_of_xDRsessions</th>\n",
       "      <th>Session_duration_ms</th>\n",
       "      <th>Total_Bytes</th>\n",
       "      <th>Social_Media_Bytes</th>\n",
       "      <th>Google_Bytes</th>\n",
       "      <th>Email_Bytes</th>\n",
       "      <th>Youtube_Bytes</th>\n",
       "      <th>Netflix_Bytes</th>\n",
       "      <th>Gaming_Bytes</th>\n",
       "      <th>Other_Bytes</th>\n",
       "      <th>DecileRank</th>\n",
       "    </tr>\n",
       "  </thead>\n",
       "  <tbody>\n",
       "    <tr>\n",
       "      <th>5635</th>\n",
       "      <td>33613691710.000000</td>\n",
       "      <td>1.000000</td>\n",
       "      <td>128089.000000</td>\n",
       "      <td>63381203.000000</td>\n",
       "      <td>0.007839</td>\n",
       "      <td>0.015054</td>\n",
       "      <td>0.004373</td>\n",
       "      <td>0.036160</td>\n",
       "      <td>0.043335</td>\n",
       "      <td>0.724496</td>\n",
       "      <td>0.727990</td>\n",
       "      <td>3</td>\n",
       "    </tr>\n",
       "    <tr>\n",
       "      <th>53709</th>\n",
       "      <td>33663769642.000000</td>\n",
       "      <td>1.000000</td>\n",
       "      <td>86400.000000</td>\n",
       "      <td>800217961.000000</td>\n",
       "      <td>0.001572</td>\n",
       "      <td>0.005999</td>\n",
       "      <td>0.004829</td>\n",
       "      <td>0.032159</td>\n",
       "      <td>0.029197</td>\n",
       "      <td>0.991188</td>\n",
       "      <td>0.217337</td>\n",
       "      <td>1</td>\n",
       "    </tr>\n",
       "    <tr>\n",
       "      <th>29039</th>\n",
       "      <td>33658045937.000000</td>\n",
       "      <td>2.000000</td>\n",
       "      <td>172798.000000</td>\n",
       "      <td>1149732750.000000</td>\n",
       "      <td>0.003593</td>\n",
       "      <td>0.025146</td>\n",
       "      <td>0.010101</td>\n",
       "      <td>0.047778</td>\n",
       "      <td>0.076344</td>\n",
       "      <td>1.350269</td>\n",
       "      <td>1.332738</td>\n",
       "      <td>3</td>\n",
       "    </tr>\n",
       "    <tr>\n",
       "      <th>21406</th>\n",
       "      <td>33646535378.000000</td>\n",
       "      <td>2.000000</td>\n",
       "      <td>30753.000000</td>\n",
       "      <td>603530257.000000</td>\n",
       "      <td>0.013368</td>\n",
       "      <td>0.029746</td>\n",
       "      <td>0.006431</td>\n",
       "      <td>0.121715</td>\n",
       "      <td>0.112978</td>\n",
       "      <td>0.980308</td>\n",
       "      <td>1.798306</td>\n",
       "      <td>0</td>\n",
       "    </tr>\n",
       "    <tr>\n",
       "      <th>90762</th>\n",
       "      <td>33753561271.000000</td>\n",
       "      <td>1.000000</td>\n",
       "      <td>95299.000000</td>\n",
       "      <td>871499238.000000</td>\n",
       "      <td>0.001577</td>\n",
       "      <td>0.005504</td>\n",
       "      <td>0.002352</td>\n",
       "      <td>0.031377</td>\n",
       "      <td>0.026465</td>\n",
       "      <td>0.924970</td>\n",
       "      <td>0.417229</td>\n",
       "      <td>2</td>\n",
       "    </tr>\n",
       "  </tbody>\n",
       "</table>\n",
       "</div>"
      ],
      "text/plain": [
       "           MSISDN/Number  No_of_xDRsessions  Session_duration_ms  \\\n",
       "5635  33613691710.000000           1.000000        128089.000000   \n",
       "53709 33663769642.000000           1.000000         86400.000000   \n",
       "29039 33658045937.000000           2.000000        172798.000000   \n",
       "21406 33646535378.000000           2.000000         30753.000000   \n",
       "90762 33753561271.000000           1.000000         95299.000000   \n",
       "\n",
       "            Total_Bytes  Social_Media_Bytes  Google_Bytes  Email_Bytes  \\\n",
       "5635    63381203.000000            0.007839      0.015054     0.004373   \n",
       "53709  800217961.000000            0.001572      0.005999     0.004829   \n",
       "29039 1149732750.000000            0.003593      0.025146     0.010101   \n",
       "21406  603530257.000000            0.013368      0.029746     0.006431   \n",
       "90762  871499238.000000            0.001577      0.005504     0.002352   \n",
       "\n",
       "       Youtube_Bytes  Netflix_Bytes  Gaming_Bytes  Other_Bytes  DecileRank  \n",
       "5635        0.036160       0.043335      0.724496     0.727990           3  \n",
       "53709       0.032159       0.029197      0.991188     0.217337           1  \n",
       "29039       0.047778       0.076344      1.350269     1.332738           3  \n",
       "21406       0.121715       0.112978      0.980308     1.798306           0  \n",
       "90762       0.031377       0.026465      0.924970     0.417229           2  "
      ]
     },
     "execution_count": 37,
     "metadata": {},
     "output_type": "execute_result"
    }
   ],
   "source": [
    "user['DecileRank']= pd.qcut(user['Session_duration_ms'],q = 5, labels = False)\n",
    "user.sample(5)"
   ]
  },
  {
   "cell_type": "code",
   "execution_count": 38,
   "metadata": {
    "scrolled": true
   },
   "outputs": [
    {
     "data": {
      "text/plain": [
       "DecileRank\n",
       "0   11442228304000.000000\n",
       "1   12278075809237.000000\n",
       "2   12655279276265.000000\n",
       "3   12940428051887.000000\n",
       "4   16134654553934.000000\n",
       "Name: Total_Bytes, dtype: float64"
      ]
     },
     "execution_count": 38,
     "metadata": {},
     "output_type": "execute_result"
    }
   ],
   "source": [
    "user.groupby('DecileRank')['Total_Bytes'].sum()"
   ]
  },
  {
   "cell_type": "code",
   "execution_count": null,
   "metadata": {},
   "outputs": [],
   "source": []
  },
  {
   "cell_type": "markdown",
   "metadata": {},
   "source": [
    "**Correlation Analysis**"
   ]
  },
  {
   "cell_type": "code",
   "execution_count": 41,
   "metadata": {},
   "outputs": [
    {
     "data": {
      "text/plain": [
       "<matplotlib.axes._subplots.AxesSubplot at 0x1f4da383a08>"
      ]
     },
     "execution_count": 41,
     "metadata": {},
     "output_type": "execute_result"
    },
    {
     "data": {
      "image/png": "[encoded data removed]",
      "text/plain": [
       "<Figure size 432x288 with 2 Axes>"
      ]
     },
     "metadata": {
      "needs_background": "light"
     },
     "output_type": "display_data"
    }
   ],
   "source": [
    "analysis=user[[]]\n",
    "corr = user.corr()\n",
    "sns.heatmap(corr)"
   ]
  }
 ],
 "metadata": {
  "kernelspec": {
   "display_name": "Python 3",
   "language": "python",
   "name": "python3"
  },
  "language_info": {
   "codemirror_mode": {
    "name": "ipython",
    "version": 3
   },
   "file_extension": ".py",
   "mimetype": "text/x-python",
   "name": "python",
   "nbconvert_exporter": "python",
   "pygments_lexer": "ipython3",
   "version": "3.7.4"
  }
 },
 "nbformat": 4,
 "nbformat_minor": 2
}
